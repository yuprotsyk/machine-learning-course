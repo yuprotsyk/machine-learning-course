{
 "cells": [
  {
   "cell_type": "markdown",
   "metadata": {
    "slideshow": {
     "slide_type": "slide"
    }
   },
   "source": [
    "<h1>Машинне навчання</h1>\n",
    "<p>Ю.С. Процик. Курс лекцій</p>\n",
    "<div align=\"right\"><em>Cформовано на основі <a href=\"https://mlcourse.ai\">відкритого курсу</a> Юрія Кашницького</em></div>"
   ]
  },
  {
   "cell_type": "markdown",
   "metadata": {
    "slideshow": {
     "slide_type": "subslide"
    }
   },
   "source": [
    "# Тема 1. Первинний аналіз даних з Pandas\n",
    "\n",
    "### План\n",
    "\n",
    "1. [Демонстрація основних методів Pandas](#1.-Демонстрація-основних-методів-Pandas)\n",
    "2. [Перші спроби прогнозування](#2.-Перші-спроби-прогнозування)\n",
    "3. [Корисні ресурси](#3.-Корисні-ресурси)"
   ]
  },
  {
   "cell_type": "markdown",
   "metadata": {
    "lang": "uk"
   },
   "source": [
    "Задачі, які ставляться перед аналітиками даних та інженерами-дослідниками з машинного навчання, достатньо різноманітні. Однак все починається з даних. На практиці дані в \"сирому\" вигляді переважно малопридатні для аналізу. Процес підготовки і очищення даних (*препроцесінг*, англ. data preparation, pre-processing, data cleaning) може бути дуже трудомістким і займати більше часу, ніж побудова та перевірка моделей на основі даних. Виділимо деякі складові цього процесу:\n",
    "\n",
    "- розуміння даних (data specification);\n",
    "- редагування даних, виправлення помилок — ручне, автоматичне або їх комбінація (data editing);\n",
    "- робота з пропущеними значеннями;\n",
    "- нормалізація;\n",
    "- створення та відбір ознак (feature extraction and selection)."
   ]
  },
  {
   "cell_type": "markdown",
   "metadata": {},
   "source": [
    "**Об'єкти і ознаки** ([Математические методы обучения по прецедентам, К. В. Воронцов](http://www.machinelearning.ru/wiki/images/6/6d/Voron-ML-1.pdf))\n",
    "\n",
    "*Ознака* (feature) $f$ об'єкта $x$ — це результат вимірювання деякої характеристики об'єкта. Формально ознакою називається відображення $f: X \\rightarrow D_f$, де $D_f$ — множина допустимих значень ознаки.\n",
    "\n",
    "Залежно від природи множини $D_f$ ознаки діляться на кілька типів.\n",
    "- Якщо $D_f = \\{0, 1\\}$, то $f$ — *бінарна* ознака;\n",
    "- Якщо $D_f$ — скінченна невпорядкована множина, то $f$ — *категоріальна (номінальна)* ознака;\n",
    "- Якщо $D_f$ — скінченна впорядкована множина, то $f$ — *порядкова* ознака;\n",
    "- Якщо $D_f = \\mathbb{R}$, то $f$ — *кількісна* ознака.\n",
    "\n",
    "Якщо всі ознаки мають однаковий тип, $D_{f_1} = \\cdots = D_{f_d}$, то вихідні дані називаються *однорідними*, в протилежному випадку — *різнорідними*.\n",
    "Нехай маємо набір ознак $f_1,\\ldots, f_d$. Вектор $(f_1(x),\\ldots, f_d(x))$ називають *ознаковим описом* об'єкта $x\\in X$. В подальшому ми не будемо розрізняти об'єкти з $X$ та їх ознакові описи, вважаючи $X = D_{f_1}\\times\\cdots\\times D_{f_d}$. Сукупність ознакових описів всіх об'єктів вибірки $X^\\ell$, записану у вигляді таблиці розміру $\\ell\\times d$, називають *матрицею об'єктів-ознак*:\n",
    "$$\n",
    "F = \\left|\\left|f_j(x_i)\\right|\\right|_{\\ell\\times d} = \\left(\\begin{array}{ccc}\n",
    "f_1(x_1) & \\ldots & f_d(x_1) \\\\\n",
    "\\ldots & \\ldots & \\ldots \\\\\n",
    "f_1(x_\\ell) & \\ldots & f_d(x_\\ell)\n",
    "\\end{array}\n",
    "\\right)\n",
    "$$"
   ]
  },
  {
   "cell_type": "markdown",
   "metadata": {
    "slideshow": {
     "slide_type": "slide"
    }
   },
   "source": [
    "## 1. Демонстрація основних методів Pandas\n",
    "**[Pandas](http://pandas.pydata.org)** — це бібліотека Python, що надає широкі можливості для аналізу даних. З її допомогою дуже зручно завантажувати, обробляти і аналізувати табличні дані з використанням SQL-подібних запитів. У зв'язці з бібліотеками `Matplotlib` і `Seaborn` з'являється можливість зручного візуального аналізу табличних даних."
   ]
  },
  {
   "cell_type": "code",
   "execution_count": 1,
   "metadata": {
    "scrolled": true,
    "slideshow": {
     "slide_type": "fragment"
    }
   },
   "outputs": [],
   "source": [
    "import numpy as np\n",
    "import pandas as pd\n",
    "pd.set_option(\"display.precision\", 2)"
   ]
  },
  {
   "cell_type": "markdown",
   "metadata": {
    "slideshow": {
     "slide_type": "fragment"
    }
   },
   "source": [
    "Дані, з якими працюють аналітики та інженери-дослідники з машинного навчання, зазвичай зберігаються у вигляді таблиць — наприклад, у форматах `.csv`, `.tsv` або `.xlsx`. Для того, щоб зчитати потрібні дані з такого файлу, чудово підходить бібліотека Pandas.\n",
    "\n",
    "Основними структурами даних в Pandas є класи `Series` і `DataFrame`. Перший з них є одновимірним індексованим масивом даних деякого фіксованого типу. Другий — це двовимірна структура даних, що представляє собою таблицю, кожен стовпець якої містить дані одного типу. Можна уявляти її як словник об'єктів типу `Series`. Структура `DataFrame` відмінно підходить для подання реальних даних: рядки відповідають описам ознак окремих об'єктів, а стовпці відповідають ознакам."
   ]
  },
  {
   "cell_type": "markdown",
   "metadata": {
    "slideshow": {
     "slide_type": "slide"
    }
   },
   "source": [
    "### Зчитування з файлу і попередній аналіз"
   ]
  },
  {
   "cell_type": "markdown",
   "metadata": {
    "slideshow": {
     "slide_type": "subslide"
    }
   },
   "source": [
    "Будемо демонструвати основні методи, аналізуючи набір даних по відтоку клієнтів телеком-оператора. Прочитаємо дані і подивимося на перші 5 рядків за допомогою методу `head`:"
   ]
  },
  {
   "cell_type": "code",
   "execution_count": 2,
   "metadata": {
    "scrolled": true,
    "slideshow": {
     "slide_type": "-"
    }
   },
   "outputs": [
    {
     "data": {
      "text/html": [
       "<div>\n",
       "<style scoped>\n",
       "    .dataframe tbody tr th:only-of-type {\n",
       "        vertical-align: middle;\n",
       "    }\n",
       "\n",
       "    .dataframe tbody tr th {\n",
       "        vertical-align: top;\n",
       "    }\n",
       "\n",
       "    .dataframe thead th {\n",
       "        text-align: right;\n",
       "    }\n",
       "</style>\n",
       "<table border=\"1\" class=\"dataframe\">\n",
       "  <thead>\n",
       "    <tr style=\"text-align: right;\">\n",
       "      <th></th>\n",
       "      <th>State</th>\n",
       "      <th>Account length</th>\n",
       "      <th>Area code</th>\n",
       "      <th>International plan</th>\n",
       "      <th>Voice mail plan</th>\n",
       "      <th>Number vmail messages</th>\n",
       "      <th>Total day minutes</th>\n",
       "      <th>Total day calls</th>\n",
       "      <th>Total day charge</th>\n",
       "      <th>Total eve minutes</th>\n",
       "      <th>Total eve calls</th>\n",
       "      <th>Total eve charge</th>\n",
       "      <th>Total night minutes</th>\n",
       "      <th>Total night calls</th>\n",
       "      <th>Total night charge</th>\n",
       "      <th>Total intl minutes</th>\n",
       "      <th>Total intl calls</th>\n",
       "      <th>Total intl charge</th>\n",
       "      <th>Customer service calls</th>\n",
       "      <th>Churn</th>\n",
       "    </tr>\n",
       "  </thead>\n",
       "  <tbody>\n",
       "    <tr>\n",
       "      <th>0</th>\n",
       "      <td>KS</td>\n",
       "      <td>128</td>\n",
       "      <td>415</td>\n",
       "      <td>No</td>\n",
       "      <td>Yes</td>\n",
       "      <td>25</td>\n",
       "      <td>265.1</td>\n",
       "      <td>110</td>\n",
       "      <td>45.07</td>\n",
       "      <td>197.4</td>\n",
       "      <td>99</td>\n",
       "      <td>16.78</td>\n",
       "      <td>244.7</td>\n",
       "      <td>91</td>\n",
       "      <td>11.01</td>\n",
       "      <td>10.0</td>\n",
       "      <td>3</td>\n",
       "      <td>2.70</td>\n",
       "      <td>1</td>\n",
       "      <td>False</td>\n",
       "    </tr>\n",
       "    <tr>\n",
       "      <th>1</th>\n",
       "      <td>OH</td>\n",
       "      <td>107</td>\n",
       "      <td>415</td>\n",
       "      <td>No</td>\n",
       "      <td>Yes</td>\n",
       "      <td>26</td>\n",
       "      <td>161.6</td>\n",
       "      <td>123</td>\n",
       "      <td>27.47</td>\n",
       "      <td>195.5</td>\n",
       "      <td>103</td>\n",
       "      <td>16.62</td>\n",
       "      <td>254.4</td>\n",
       "      <td>103</td>\n",
       "      <td>11.45</td>\n",
       "      <td>13.7</td>\n",
       "      <td>3</td>\n",
       "      <td>3.70</td>\n",
       "      <td>1</td>\n",
       "      <td>False</td>\n",
       "    </tr>\n",
       "    <tr>\n",
       "      <th>2</th>\n",
       "      <td>NJ</td>\n",
       "      <td>137</td>\n",
       "      <td>415</td>\n",
       "      <td>No</td>\n",
       "      <td>No</td>\n",
       "      <td>0</td>\n",
       "      <td>243.4</td>\n",
       "      <td>114</td>\n",
       "      <td>41.38</td>\n",
       "      <td>121.2</td>\n",
       "      <td>110</td>\n",
       "      <td>10.30</td>\n",
       "      <td>162.6</td>\n",
       "      <td>104</td>\n",
       "      <td>7.32</td>\n",
       "      <td>12.2</td>\n",
       "      <td>5</td>\n",
       "      <td>3.29</td>\n",
       "      <td>0</td>\n",
       "      <td>False</td>\n",
       "    </tr>\n",
       "    <tr>\n",
       "      <th>3</th>\n",
       "      <td>OH</td>\n",
       "      <td>84</td>\n",
       "      <td>408</td>\n",
       "      <td>Yes</td>\n",
       "      <td>No</td>\n",
       "      <td>0</td>\n",
       "      <td>299.4</td>\n",
       "      <td>71</td>\n",
       "      <td>50.90</td>\n",
       "      <td>61.9</td>\n",
       "      <td>88</td>\n",
       "      <td>5.26</td>\n",
       "      <td>196.9</td>\n",
       "      <td>89</td>\n",
       "      <td>8.86</td>\n",
       "      <td>6.6</td>\n",
       "      <td>7</td>\n",
       "      <td>1.78</td>\n",
       "      <td>2</td>\n",
       "      <td>False</td>\n",
       "    </tr>\n",
       "    <tr>\n",
       "      <th>4</th>\n",
       "      <td>OK</td>\n",
       "      <td>75</td>\n",
       "      <td>415</td>\n",
       "      <td>Yes</td>\n",
       "      <td>No</td>\n",
       "      <td>0</td>\n",
       "      <td>166.7</td>\n",
       "      <td>113</td>\n",
       "      <td>28.34</td>\n",
       "      <td>148.3</td>\n",
       "      <td>122</td>\n",
       "      <td>12.61</td>\n",
       "      <td>186.9</td>\n",
       "      <td>121</td>\n",
       "      <td>8.41</td>\n",
       "      <td>10.1</td>\n",
       "      <td>3</td>\n",
       "      <td>2.73</td>\n",
       "      <td>3</td>\n",
       "      <td>False</td>\n",
       "    </tr>\n",
       "  </tbody>\n",
       "</table>\n",
       "</div>"
      ],
      "text/plain": [
       "  State  Account length  Area code International plan Voice mail plan  \\\n",
       "0    KS             128        415                 No             Yes   \n",
       "1    OH             107        415                 No             Yes   \n",
       "2    NJ             137        415                 No              No   \n",
       "3    OH              84        408                Yes              No   \n",
       "4    OK              75        415                Yes              No   \n",
       "\n",
       "   Number vmail messages  Total day minutes  Total day calls  \\\n",
       "0                     25              265.1              110   \n",
       "1                     26              161.6              123   \n",
       "2                      0              243.4              114   \n",
       "3                      0              299.4               71   \n",
       "4                      0              166.7              113   \n",
       "\n",
       "   Total day charge  Total eve minutes  Total eve calls  Total eve charge  \\\n",
       "0             45.07              197.4               99             16.78   \n",
       "1             27.47              195.5              103             16.62   \n",
       "2             41.38              121.2              110             10.30   \n",
       "3             50.90               61.9               88              5.26   \n",
       "4             28.34              148.3              122             12.61   \n",
       "\n",
       "   Total night minutes  Total night calls  Total night charge  \\\n",
       "0                244.7                 91               11.01   \n",
       "1                254.4                103               11.45   \n",
       "2                162.6                104                7.32   \n",
       "3                196.9                 89                8.86   \n",
       "4                186.9                121                8.41   \n",
       "\n",
       "   Total intl minutes  Total intl calls  Total intl charge  \\\n",
       "0                10.0                 3               2.70   \n",
       "1                13.7                 3               3.70   \n",
       "2                12.2                 5               3.29   \n",
       "3                 6.6                 7               1.78   \n",
       "4                10.1                 3               2.73   \n",
       "\n",
       "   Customer service calls  Churn  \n",
       "0                       1  False  \n",
       "1                       1  False  \n",
       "2                       0  False  \n",
       "3                       2  False  \n",
       "4                       3  False  "
      ]
     },
     "execution_count": 2,
     "metadata": {},
     "output_type": "execute_result"
    }
   ],
   "source": [
    "df = pd.read_csv('../data/telecom_churn.csv')\n",
    "df.head()"
   ]
  },
  {
   "cell_type": "markdown",
   "metadata": {
    "slideshow": {
     "slide_type": "subslide"
    }
   },
   "source": [
    "<details>\n",
    "<summary>Вивід датафреймів в Jupyter-ноутбуках</summary>\n",
    "<p>\n",
    "\n",
    "В Jupyter-ноутбуках датафрейми `Pandas` виводяться у вигляді красивих таблиць, і `print(df.head())` виглядає гірше.\n",
    "\n",
    "За замовчуванням `Pandas` виводить всього 20 стовпців і 60 рядків. Якщо датафрейм є більшим, то потрібно скористатися функцією `set_option`:\n",
    "\n",
    "```python\n",
    "pd.set_option('display.max_columns', 100)\n",
    "pd.set_option('display.max_rows', 100)\n",
    "```\n",
    "</p>\n",
    "</details>"
   ]
  },
  {
   "cell_type": "markdown",
   "metadata": {
    "slideshow": {
     "slide_type": "subslide"
    }
   },
   "source": [
    "Опис ознак\n",
    "\n",
    "|        Назва              |                        Опис                        | Статистичний тип ознаки |\n",
    "|:----------------------    |:-------------------------------------------------  |:----------              |\n",
    "| **State**                 | Символьний код штату                               | Категоріальна           |\n",
    "| **Account length**        | Як довго клієнт обслуговується компанією           | Кількісна               |\n",
    "| **Area code**             | Префікс номера телефону                            | Категоріальна           |\n",
    "| **International plan**    | Міжнародний роумінг (підключений / не підключений) | Бінарна                 |\n",
    "| **Voice mail plan**       | Голосова пошта (підключена / не підключена)        | Бінарна                 |\n",
    "| **Number vmail messages** | Кількість голосових повідомлень                    | Кількісна               |\n",
    "| **Total day minutes**     | Загальна тривалість розмов вдень                   | Кількісна               |\n",
    "| **Total day calls**       | Загальна кількість дзвінків вдень                  | Кількісна               |\n",
    "| **Total day charge**      | Загальна сума оплати за послуги вдень              | Кількісна               |\n",
    "| **Total eve minutes**     | Загальна тривалість розмов ввечері                 | Кількісна               |\n",
    "| **Total eve calls**       | Загальна кількість дзвінків ввечері                | Кількісна               |\n",
    "| **Total eve charge**      | Загальна сума оплати за послуги ввечері            | Кількісна               |\n",
    "| **Total night minutes**   | Загальна тривалість розмов вночі                   | Кількісна               |\n",
    "| **Total night calls**     | Загальна кількість дзвінків вночі                  | Кількісна               |\n",
    "| **Total night charge**    | Загальна сума оплати за послуги вночі              | Кількісна               |\n",
    "| **Total intl minutes**    | Загальна тривалість міжнародних розмов             | Кількісна               |\n",
    "| **Total intl calls**      | Загальна кількість міжнародних розмов              | Кількісна               |\n",
    "| **Total intl charge**     | Загальна сума оплати за міжнародні розмови         | Кількісна               |\n",
    "| **Customer service calls**| Кількість звернень до сервісного центру            | Порядкова               |\n",
    "\n",
    "Цільова змінна: **Churn** – ознака відтоку, бінарна ознака (Значення True – втрата клієнта, тобто відтік). Пізніше ми будемо будувати моделі, які прогнозують цю ознаку за іншими, тому і назвали її цільовою."
   ]
  },
  {
   "cell_type": "markdown",
   "metadata": {
    "slideshow": {
     "slide_type": "subslide"
    }
   },
   "source": [
    "**Подивимося на розмір даних, назви ознак та їх типи**"
   ]
  },
  {
   "cell_type": "code",
   "execution_count": 3,
   "metadata": {
    "slideshow": {
     "slide_type": "-"
    }
   },
   "outputs": [
    {
     "name": "stdout",
     "output_type": "stream",
     "text": [
      "(3333, 20)\n"
     ]
    }
   ],
   "source": [
    "print(df.shape)"
   ]
  },
  {
   "cell_type": "markdown",
   "metadata": {
    "slideshow": {
     "slide_type": "fragment"
    }
   },
   "source": [
    "Бачимо, що в таблиці 3333 рядки і 20 стовпців. Виведемо назви стовпців:"
   ]
  },
  {
   "cell_type": "code",
   "execution_count": 4,
   "metadata": {
    "slideshow": {
     "slide_type": "-"
    }
   },
   "outputs": [
    {
     "name": "stdout",
     "output_type": "stream",
     "text": [
      "Index(['State', 'Account length', 'Area code', 'International plan',\n",
      "       'Voice mail plan', 'Number vmail messages', 'Total day minutes',\n",
      "       'Total day calls', 'Total day charge', 'Total eve minutes',\n",
      "       'Total eve calls', 'Total eve charge', 'Total night minutes',\n",
      "       'Total night calls', 'Total night charge', 'Total intl minutes',\n",
      "       'Total intl calls', 'Total intl charge', 'Customer service calls',\n",
      "       'Churn'],\n",
      "      dtype='object')\n"
     ]
    }
   ],
   "source": [
    "print(df.columns)"
   ]
  },
  {
   "cell_type": "markdown",
   "metadata": {
    "slideshow": {
     "slide_type": "subslide"
    }
   },
   "source": [
    "Щоб переглянути загальну інформацію для датафрейму та всіх ознак, скористаємося методом **`info`**:"
   ]
  },
  {
   "cell_type": "code",
   "execution_count": 5,
   "metadata": {
    "scrolled": false,
    "slideshow": {
     "slide_type": "-"
    }
   },
   "outputs": [
    {
     "name": "stdout",
     "output_type": "stream",
     "text": [
      "<class 'pandas.core.frame.DataFrame'>\n",
      "RangeIndex: 3333 entries, 0 to 3332\n",
      "Data columns (total 20 columns):\n",
      " #   Column                  Non-Null Count  Dtype  \n",
      "---  ------                  --------------  -----  \n",
      " 0   State                   3333 non-null   object \n",
      " 1   Account length          3333 non-null   int64  \n",
      " 2   Area code               3333 non-null   int64  \n",
      " 3   International plan      3333 non-null   object \n",
      " 4   Voice mail plan         3333 non-null   object \n",
      " 5   Number vmail messages   3333 non-null   int64  \n",
      " 6   Total day minutes       3333 non-null   float64\n",
      " 7   Total day calls         3333 non-null   int64  \n",
      " 8   Total day charge        3333 non-null   float64\n",
      " 9   Total eve minutes       3333 non-null   float64\n",
      " 10  Total eve calls         3333 non-null   int64  \n",
      " 11  Total eve charge        3333 non-null   float64\n",
      " 12  Total night minutes     3333 non-null   float64\n",
      " 13  Total night calls       3333 non-null   int64  \n",
      " 14  Total night charge      3333 non-null   float64\n",
      " 15  Total intl minutes      3333 non-null   float64\n",
      " 16  Total intl calls        3333 non-null   int64  \n",
      " 17  Total intl charge       3333 non-null   float64\n",
      " 18  Customer service calls  3333 non-null   int64  \n",
      " 19  Churn                   3333 non-null   bool   \n",
      "dtypes: bool(1), float64(8), int64(8), object(3)\n",
      "memory usage: 498.1+ KB\n",
      "None\n"
     ]
    }
   ],
   "source": [
    "print(df.info())"
   ]
  },
  {
   "cell_type": "markdown",
   "metadata": {
    "slideshow": {
     "slide_type": "subslide"
    }
   },
   "source": [
    "`bool`, `int64`, `float64` и `object` — це типи ознак. Бачимо, що одна ознака — логічна (`bool`), 3 ознаки мають тип `object` і 16 ознак — числові.\n",
    "\n",
    "**Змінити тип стовпця** можна за допомогою метода `astype`. Застосуємо цей метод до ознаки `Churn` і переведемо її в `int64`:"
   ]
  },
  {
   "cell_type": "code",
   "execution_count": 6,
   "metadata": {
    "slideshow": {
     "slide_type": "fragment"
    }
   },
   "outputs": [],
   "source": [
    "df['Churn'] = df['Churn'].astype('int64')"
   ]
  },
  {
   "cell_type": "markdown",
   "metadata": {
    "slideshow": {
     "slide_type": "subslide"
    }
   },
   "source": [
    "Метод **`describe`** виводить основні статистичні характеристики даних за кожною числовою ознакою (типи `int64` і `float64`): кількість непропущених значень, середнє, стандартне відхилення, діапазон, медіану, 0.25 і 0.75 квантилі."
   ]
  },
  {
   "cell_type": "code",
   "execution_count": 7,
   "metadata": {
    "slideshow": {
     "slide_type": "-"
    }
   },
   "outputs": [
    {
     "data": {
      "text/html": [
       "<div>\n",
       "<style scoped>\n",
       "    .dataframe tbody tr th:only-of-type {\n",
       "        vertical-align: middle;\n",
       "    }\n",
       "\n",
       "    .dataframe tbody tr th {\n",
       "        vertical-align: top;\n",
       "    }\n",
       "\n",
       "    .dataframe thead th {\n",
       "        text-align: right;\n",
       "    }\n",
       "</style>\n",
       "<table border=\"1\" class=\"dataframe\">\n",
       "  <thead>\n",
       "    <tr style=\"text-align: right;\">\n",
       "      <th></th>\n",
       "      <th>Account length</th>\n",
       "      <th>Area code</th>\n",
       "      <th>Number vmail messages</th>\n",
       "      <th>Total day minutes</th>\n",
       "      <th>Total day calls</th>\n",
       "      <th>Total day charge</th>\n",
       "      <th>Total eve minutes</th>\n",
       "      <th>Total eve calls</th>\n",
       "      <th>Total eve charge</th>\n",
       "      <th>Total night minutes</th>\n",
       "      <th>Total night calls</th>\n",
       "      <th>Total night charge</th>\n",
       "      <th>Total intl minutes</th>\n",
       "      <th>Total intl calls</th>\n",
       "      <th>Total intl charge</th>\n",
       "      <th>Customer service calls</th>\n",
       "      <th>Churn</th>\n",
       "    </tr>\n",
       "  </thead>\n",
       "  <tbody>\n",
       "    <tr>\n",
       "      <th>count</th>\n",
       "      <td>3333.00</td>\n",
       "      <td>3333.00</td>\n",
       "      <td>3333.00</td>\n",
       "      <td>3333.00</td>\n",
       "      <td>3333.00</td>\n",
       "      <td>3333.00</td>\n",
       "      <td>3333.00</td>\n",
       "      <td>3333.00</td>\n",
       "      <td>3333.00</td>\n",
       "      <td>3333.00</td>\n",
       "      <td>3333.00</td>\n",
       "      <td>3333.00</td>\n",
       "      <td>3333.00</td>\n",
       "      <td>3333.00</td>\n",
       "      <td>3333.00</td>\n",
       "      <td>3333.00</td>\n",
       "      <td>3333.00</td>\n",
       "    </tr>\n",
       "    <tr>\n",
       "      <th>mean</th>\n",
       "      <td>101.06</td>\n",
       "      <td>437.18</td>\n",
       "      <td>8.10</td>\n",
       "      <td>179.78</td>\n",
       "      <td>100.44</td>\n",
       "      <td>30.56</td>\n",
       "      <td>200.98</td>\n",
       "      <td>100.11</td>\n",
       "      <td>17.08</td>\n",
       "      <td>200.87</td>\n",
       "      <td>100.11</td>\n",
       "      <td>9.04</td>\n",
       "      <td>10.24</td>\n",
       "      <td>4.48</td>\n",
       "      <td>2.76</td>\n",
       "      <td>1.56</td>\n",
       "      <td>0.14</td>\n",
       "    </tr>\n",
       "    <tr>\n",
       "      <th>std</th>\n",
       "      <td>39.82</td>\n",
       "      <td>42.37</td>\n",
       "      <td>13.69</td>\n",
       "      <td>54.47</td>\n",
       "      <td>20.07</td>\n",
       "      <td>9.26</td>\n",
       "      <td>50.71</td>\n",
       "      <td>19.92</td>\n",
       "      <td>4.31</td>\n",
       "      <td>50.57</td>\n",
       "      <td>19.57</td>\n",
       "      <td>2.28</td>\n",
       "      <td>2.79</td>\n",
       "      <td>2.46</td>\n",
       "      <td>0.75</td>\n",
       "      <td>1.32</td>\n",
       "      <td>0.35</td>\n",
       "    </tr>\n",
       "    <tr>\n",
       "      <th>min</th>\n",
       "      <td>1.00</td>\n",
       "      <td>408.00</td>\n",
       "      <td>0.00</td>\n",
       "      <td>0.00</td>\n",
       "      <td>0.00</td>\n",
       "      <td>0.00</td>\n",
       "      <td>0.00</td>\n",
       "      <td>0.00</td>\n",
       "      <td>0.00</td>\n",
       "      <td>23.20</td>\n",
       "      <td>33.00</td>\n",
       "      <td>1.04</td>\n",
       "      <td>0.00</td>\n",
       "      <td>0.00</td>\n",
       "      <td>0.00</td>\n",
       "      <td>0.00</td>\n",
       "      <td>0.00</td>\n",
       "    </tr>\n",
       "    <tr>\n",
       "      <th>25%</th>\n",
       "      <td>74.00</td>\n",
       "      <td>408.00</td>\n",
       "      <td>0.00</td>\n",
       "      <td>143.70</td>\n",
       "      <td>87.00</td>\n",
       "      <td>24.43</td>\n",
       "      <td>166.60</td>\n",
       "      <td>87.00</td>\n",
       "      <td>14.16</td>\n",
       "      <td>167.00</td>\n",
       "      <td>87.00</td>\n",
       "      <td>7.52</td>\n",
       "      <td>8.50</td>\n",
       "      <td>3.00</td>\n",
       "      <td>2.30</td>\n",
       "      <td>1.00</td>\n",
       "      <td>0.00</td>\n",
       "    </tr>\n",
       "    <tr>\n",
       "      <th>50%</th>\n",
       "      <td>101.00</td>\n",
       "      <td>415.00</td>\n",
       "      <td>0.00</td>\n",
       "      <td>179.40</td>\n",
       "      <td>101.00</td>\n",
       "      <td>30.50</td>\n",
       "      <td>201.40</td>\n",
       "      <td>100.00</td>\n",
       "      <td>17.12</td>\n",
       "      <td>201.20</td>\n",
       "      <td>100.00</td>\n",
       "      <td>9.05</td>\n",
       "      <td>10.30</td>\n",
       "      <td>4.00</td>\n",
       "      <td>2.78</td>\n",
       "      <td>1.00</td>\n",
       "      <td>0.00</td>\n",
       "    </tr>\n",
       "    <tr>\n",
       "      <th>75%</th>\n",
       "      <td>127.00</td>\n",
       "      <td>510.00</td>\n",
       "      <td>20.00</td>\n",
       "      <td>216.40</td>\n",
       "      <td>114.00</td>\n",
       "      <td>36.79</td>\n",
       "      <td>235.30</td>\n",
       "      <td>114.00</td>\n",
       "      <td>20.00</td>\n",
       "      <td>235.30</td>\n",
       "      <td>113.00</td>\n",
       "      <td>10.59</td>\n",
       "      <td>12.10</td>\n",
       "      <td>6.00</td>\n",
       "      <td>3.27</td>\n",
       "      <td>2.00</td>\n",
       "      <td>0.00</td>\n",
       "    </tr>\n",
       "    <tr>\n",
       "      <th>max</th>\n",
       "      <td>243.00</td>\n",
       "      <td>510.00</td>\n",
       "      <td>51.00</td>\n",
       "      <td>350.80</td>\n",
       "      <td>165.00</td>\n",
       "      <td>59.64</td>\n",
       "      <td>363.70</td>\n",
       "      <td>170.00</td>\n",
       "      <td>30.91</td>\n",
       "      <td>395.00</td>\n",
       "      <td>175.00</td>\n",
       "      <td>17.77</td>\n",
       "      <td>20.00</td>\n",
       "      <td>20.00</td>\n",
       "      <td>5.40</td>\n",
       "      <td>9.00</td>\n",
       "      <td>1.00</td>\n",
       "    </tr>\n",
       "  </tbody>\n",
       "</table>\n",
       "</div>"
      ],
      "text/plain": [
       "       Account length  Area code  Number vmail messages  Total day minutes  \\\n",
       "count         3333.00    3333.00                3333.00            3333.00   \n",
       "mean           101.06     437.18                   8.10             179.78   \n",
       "std             39.82      42.37                  13.69              54.47   \n",
       "min              1.00     408.00                   0.00               0.00   \n",
       "25%             74.00     408.00                   0.00             143.70   \n",
       "50%            101.00     415.00                   0.00             179.40   \n",
       "75%            127.00     510.00                  20.00             216.40   \n",
       "max            243.00     510.00                  51.00             350.80   \n",
       "\n",
       "       Total day calls  Total day charge  Total eve minutes  Total eve calls  \\\n",
       "count          3333.00           3333.00            3333.00          3333.00   \n",
       "mean            100.44             30.56             200.98           100.11   \n",
       "std              20.07              9.26              50.71            19.92   \n",
       "min               0.00              0.00               0.00             0.00   \n",
       "25%              87.00             24.43             166.60            87.00   \n",
       "50%             101.00             30.50             201.40           100.00   \n",
       "75%             114.00             36.79             235.30           114.00   \n",
       "max             165.00             59.64             363.70           170.00   \n",
       "\n",
       "       Total eve charge  Total night minutes  Total night calls  \\\n",
       "count           3333.00              3333.00            3333.00   \n",
       "mean              17.08               200.87             100.11   \n",
       "std                4.31                50.57              19.57   \n",
       "min                0.00                23.20              33.00   \n",
       "25%               14.16               167.00              87.00   \n",
       "50%               17.12               201.20             100.00   \n",
       "75%               20.00               235.30             113.00   \n",
       "max               30.91               395.00             175.00   \n",
       "\n",
       "       Total night charge  Total intl minutes  Total intl calls  \\\n",
       "count             3333.00             3333.00           3333.00   \n",
       "mean                 9.04               10.24              4.48   \n",
       "std                  2.28                2.79              2.46   \n",
       "min                  1.04                0.00              0.00   \n",
       "25%                  7.52                8.50              3.00   \n",
       "50%                  9.05               10.30              4.00   \n",
       "75%                 10.59               12.10              6.00   \n",
       "max                 17.77               20.00             20.00   \n",
       "\n",
       "       Total intl charge  Customer service calls    Churn  \n",
       "count            3333.00                 3333.00  3333.00  \n",
       "mean                2.76                    1.56     0.14  \n",
       "std                 0.75                    1.32     0.35  \n",
       "min                 0.00                    0.00     0.00  \n",
       "25%                 2.30                    1.00     0.00  \n",
       "50%                 2.78                    1.00     0.00  \n",
       "75%                 3.27                    2.00     0.00  \n",
       "max                 5.40                    9.00     1.00  "
      ]
     },
     "execution_count": 7,
     "metadata": {},
     "output_type": "execute_result"
    }
   ],
   "source": [
    "df.describe()"
   ]
  },
  {
   "cell_type": "markdown",
   "metadata": {
    "slideshow": {
     "slide_type": "subslide"
    }
   },
   "source": [
    "Щоб переглянути статистику за нечисловими ознаками, потрібно явно вказати відповідний тип в параметрі `include`. Можна також задати `include`='all', щоб вивести статистику за всіма ознаками."
   ]
  },
  {
   "cell_type": "code",
   "execution_count": 8,
   "metadata": {
    "scrolled": true,
    "slideshow": {
     "slide_type": "-"
    }
   },
   "outputs": [
    {
     "data": {
      "text/html": [
       "<div>\n",
       "<style scoped>\n",
       "    .dataframe tbody tr th:only-of-type {\n",
       "        vertical-align: middle;\n",
       "    }\n",
       "\n",
       "    .dataframe tbody tr th {\n",
       "        vertical-align: top;\n",
       "    }\n",
       "\n",
       "    .dataframe thead th {\n",
       "        text-align: right;\n",
       "    }\n",
       "</style>\n",
       "<table border=\"1\" class=\"dataframe\">\n",
       "  <thead>\n",
       "    <tr style=\"text-align: right;\">\n",
       "      <th></th>\n",
       "      <th>State</th>\n",
       "      <th>International plan</th>\n",
       "      <th>Voice mail plan</th>\n",
       "    </tr>\n",
       "  </thead>\n",
       "  <tbody>\n",
       "    <tr>\n",
       "      <th>count</th>\n",
       "      <td>3333</td>\n",
       "      <td>3333</td>\n",
       "      <td>3333</td>\n",
       "    </tr>\n",
       "    <tr>\n",
       "      <th>unique</th>\n",
       "      <td>51</td>\n",
       "      <td>2</td>\n",
       "      <td>2</td>\n",
       "    </tr>\n",
       "    <tr>\n",
       "      <th>top</th>\n",
       "      <td>WV</td>\n",
       "      <td>No</td>\n",
       "      <td>No</td>\n",
       "    </tr>\n",
       "    <tr>\n",
       "      <th>freq</th>\n",
       "      <td>106</td>\n",
       "      <td>3010</td>\n",
       "      <td>2411</td>\n",
       "    </tr>\n",
       "  </tbody>\n",
       "</table>\n",
       "</div>"
      ],
      "text/plain": [
       "       State International plan Voice mail plan\n",
       "count   3333               3333            3333\n",
       "unique    51                  2               2\n",
       "top       WV                 No              No\n",
       "freq     106               3010            2411"
      ]
     },
     "execution_count": 8,
     "metadata": {},
     "output_type": "execute_result"
    }
   ],
   "source": [
    "df.describe(include=['object', 'bool'])"
   ]
  },
  {
   "cell_type": "markdown",
   "metadata": {
    "slideshow": {
     "slide_type": "subslide"
    }
   },
   "source": [
    "Для категоріальних (тип `object`) та булевих (тип `bool`) ознак можна скористатися методом **`value_counts`**. Подивимося на розподіл цільової змінної — `Churn`:"
   ]
  },
  {
   "cell_type": "code",
   "execution_count": 9,
   "metadata": {
    "slideshow": {
     "slide_type": "-"
    }
   },
   "outputs": [
    {
     "data": {
      "text/plain": [
       "0    2850\n",
       "1     483\n",
       "Name: Churn, dtype: int64"
      ]
     },
     "execution_count": 9,
     "metadata": {},
     "output_type": "execute_result"
    }
   ],
   "source": [
    "df['Churn'].value_counts()"
   ]
  },
  {
   "cell_type": "markdown",
   "metadata": {
    "slideshow": {
     "slide_type": "subslide"
    }
   },
   "source": [
    "2850 користувачів з 3333 — лояльні, значення змінної `Churn` у них — `0`.\n",
    "\n",
    "Подивимося на розподіл користувачів за змінною `Area code`. Вкажемо значення параметра `normalize=True`, щоб відобразити не абсолютні частоти, а відносні."
   ]
  },
  {
   "cell_type": "code",
   "execution_count": 10,
   "metadata": {
    "slideshow": {
     "slide_type": "-"
    }
   },
   "outputs": [
    {
     "data": {
      "text/plain": [
       "415    0.50\n",
       "510    0.25\n",
       "408    0.25\n",
       "Name: Area code, dtype: float64"
      ]
     },
     "execution_count": 10,
     "metadata": {},
     "output_type": "execute_result"
    }
   ],
   "source": [
    "df['Area code'].value_counts(normalize=True)"
   ]
  },
  {
   "cell_type": "markdown",
   "metadata": {
    "slideshow": {
     "slide_type": "slide"
    }
   },
   "source": [
    "### Сортування\n",
    "\n",
    "`DataFrame` можна відсортувати за значенням якої-небудь ознаки. В нашому випадку, за `Total day charge` (`ascending=False` для сортування за спаданням):"
   ]
  },
  {
   "cell_type": "code",
   "execution_count": 11,
   "metadata": {
    "slideshow": {
     "slide_type": "-"
    }
   },
   "outputs": [
    {
     "data": {
      "text/html": [
       "<div>\n",
       "<style scoped>\n",
       "    .dataframe tbody tr th:only-of-type {\n",
       "        vertical-align: middle;\n",
       "    }\n",
       "\n",
       "    .dataframe tbody tr th {\n",
       "        vertical-align: top;\n",
       "    }\n",
       "\n",
       "    .dataframe thead th {\n",
       "        text-align: right;\n",
       "    }\n",
       "</style>\n",
       "<table border=\"1\" class=\"dataframe\">\n",
       "  <thead>\n",
       "    <tr style=\"text-align: right;\">\n",
       "      <th></th>\n",
       "      <th>State</th>\n",
       "      <th>Account length</th>\n",
       "      <th>Area code</th>\n",
       "      <th>International plan</th>\n",
       "      <th>Voice mail plan</th>\n",
       "      <th>Number vmail messages</th>\n",
       "      <th>Total day minutes</th>\n",
       "      <th>Total day calls</th>\n",
       "      <th>Total day charge</th>\n",
       "      <th>Total eve minutes</th>\n",
       "      <th>Total eve calls</th>\n",
       "      <th>Total eve charge</th>\n",
       "      <th>Total night minutes</th>\n",
       "      <th>Total night calls</th>\n",
       "      <th>Total night charge</th>\n",
       "      <th>Total intl minutes</th>\n",
       "      <th>Total intl calls</th>\n",
       "      <th>Total intl charge</th>\n",
       "      <th>Customer service calls</th>\n",
       "      <th>Churn</th>\n",
       "    </tr>\n",
       "  </thead>\n",
       "  <tbody>\n",
       "    <tr>\n",
       "      <th>365</th>\n",
       "      <td>CO</td>\n",
       "      <td>154</td>\n",
       "      <td>415</td>\n",
       "      <td>No</td>\n",
       "      <td>No</td>\n",
       "      <td>0</td>\n",
       "      <td>350.8</td>\n",
       "      <td>75</td>\n",
       "      <td>59.64</td>\n",
       "      <td>216.5</td>\n",
       "      <td>94</td>\n",
       "      <td>18.40</td>\n",
       "      <td>253.9</td>\n",
       "      <td>100</td>\n",
       "      <td>11.43</td>\n",
       "      <td>10.1</td>\n",
       "      <td>9</td>\n",
       "      <td>2.73</td>\n",
       "      <td>1</td>\n",
       "      <td>1</td>\n",
       "    </tr>\n",
       "    <tr>\n",
       "      <th>985</th>\n",
       "      <td>NY</td>\n",
       "      <td>64</td>\n",
       "      <td>415</td>\n",
       "      <td>Yes</td>\n",
       "      <td>No</td>\n",
       "      <td>0</td>\n",
       "      <td>346.8</td>\n",
       "      <td>55</td>\n",
       "      <td>58.96</td>\n",
       "      <td>249.5</td>\n",
       "      <td>79</td>\n",
       "      <td>21.21</td>\n",
       "      <td>275.4</td>\n",
       "      <td>102</td>\n",
       "      <td>12.39</td>\n",
       "      <td>13.3</td>\n",
       "      <td>9</td>\n",
       "      <td>3.59</td>\n",
       "      <td>1</td>\n",
       "      <td>1</td>\n",
       "    </tr>\n",
       "    <tr>\n",
       "      <th>2594</th>\n",
       "      <td>OH</td>\n",
       "      <td>115</td>\n",
       "      <td>510</td>\n",
       "      <td>Yes</td>\n",
       "      <td>No</td>\n",
       "      <td>0</td>\n",
       "      <td>345.3</td>\n",
       "      <td>81</td>\n",
       "      <td>58.70</td>\n",
       "      <td>203.4</td>\n",
       "      <td>106</td>\n",
       "      <td>17.29</td>\n",
       "      <td>217.5</td>\n",
       "      <td>107</td>\n",
       "      <td>9.79</td>\n",
       "      <td>11.8</td>\n",
       "      <td>8</td>\n",
       "      <td>3.19</td>\n",
       "      <td>1</td>\n",
       "      <td>1</td>\n",
       "    </tr>\n",
       "    <tr>\n",
       "      <th>156</th>\n",
       "      <td>OH</td>\n",
       "      <td>83</td>\n",
       "      <td>415</td>\n",
       "      <td>No</td>\n",
       "      <td>No</td>\n",
       "      <td>0</td>\n",
       "      <td>337.4</td>\n",
       "      <td>120</td>\n",
       "      <td>57.36</td>\n",
       "      <td>227.4</td>\n",
       "      <td>116</td>\n",
       "      <td>19.33</td>\n",
       "      <td>153.9</td>\n",
       "      <td>114</td>\n",
       "      <td>6.93</td>\n",
       "      <td>15.8</td>\n",
       "      <td>7</td>\n",
       "      <td>4.27</td>\n",
       "      <td>0</td>\n",
       "      <td>1</td>\n",
       "    </tr>\n",
       "    <tr>\n",
       "      <th>605</th>\n",
       "      <td>MO</td>\n",
       "      <td>112</td>\n",
       "      <td>415</td>\n",
       "      <td>No</td>\n",
       "      <td>No</td>\n",
       "      <td>0</td>\n",
       "      <td>335.5</td>\n",
       "      <td>77</td>\n",
       "      <td>57.04</td>\n",
       "      <td>212.5</td>\n",
       "      <td>109</td>\n",
       "      <td>18.06</td>\n",
       "      <td>265.0</td>\n",
       "      <td>132</td>\n",
       "      <td>11.93</td>\n",
       "      <td>12.7</td>\n",
       "      <td>8</td>\n",
       "      <td>3.43</td>\n",
       "      <td>2</td>\n",
       "      <td>1</td>\n",
       "    </tr>\n",
       "  </tbody>\n",
       "</table>\n",
       "</div>"
      ],
      "text/plain": [
       "     State  Account length  Area code International plan Voice mail plan  \\\n",
       "365     CO             154        415                 No              No   \n",
       "985     NY              64        415                Yes              No   \n",
       "2594    OH             115        510                Yes              No   \n",
       "156     OH              83        415                 No              No   \n",
       "605     MO             112        415                 No              No   \n",
       "\n",
       "      Number vmail messages  Total day minutes  Total day calls  \\\n",
       "365                       0              350.8               75   \n",
       "985                       0              346.8               55   \n",
       "2594                      0              345.3               81   \n",
       "156                       0              337.4              120   \n",
       "605                       0              335.5               77   \n",
       "\n",
       "      Total day charge  Total eve minutes  Total eve calls  Total eve charge  \\\n",
       "365              59.64              216.5               94             18.40   \n",
       "985              58.96              249.5               79             21.21   \n",
       "2594             58.70              203.4              106             17.29   \n",
       "156              57.36              227.4              116             19.33   \n",
       "605              57.04              212.5              109             18.06   \n",
       "\n",
       "      Total night minutes  Total night calls  Total night charge  \\\n",
       "365                 253.9                100               11.43   \n",
       "985                 275.4                102               12.39   \n",
       "2594                217.5                107                9.79   \n",
       "156                 153.9                114                6.93   \n",
       "605                 265.0                132               11.93   \n",
       "\n",
       "      Total intl minutes  Total intl calls  Total intl charge  \\\n",
       "365                 10.1                 9               2.73   \n",
       "985                 13.3                 9               3.59   \n",
       "2594                11.8                 8               3.19   \n",
       "156                 15.8                 7               4.27   \n",
       "605                 12.7                 8               3.43   \n",
       "\n",
       "      Customer service calls  Churn  \n",
       "365                        1      1  \n",
       "985                        1      1  \n",
       "2594                       1      1  \n",
       "156                        0      1  \n",
       "605                        2      1  "
      ]
     },
     "execution_count": 11,
     "metadata": {},
     "output_type": "execute_result"
    }
   ],
   "source": [
    "df.sort_values(by='Total day charge', \n",
    "        ascending=False).head()"
   ]
  },
  {
   "cell_type": "markdown",
   "metadata": {
    "slideshow": {
     "slide_type": "subslide"
    }
   },
   "source": [
    "Сортувати можна і за групою стовпців:"
   ]
  },
  {
   "cell_type": "code",
   "execution_count": 12,
   "metadata": {
    "slideshow": {
     "slide_type": "-"
    }
   },
   "outputs": [
    {
     "data": {
      "text/html": [
       "<div>\n",
       "<style scoped>\n",
       "    .dataframe tbody tr th:only-of-type {\n",
       "        vertical-align: middle;\n",
       "    }\n",
       "\n",
       "    .dataframe tbody tr th {\n",
       "        vertical-align: top;\n",
       "    }\n",
       "\n",
       "    .dataframe thead th {\n",
       "        text-align: right;\n",
       "    }\n",
       "</style>\n",
       "<table border=\"1\" class=\"dataframe\">\n",
       "  <thead>\n",
       "    <tr style=\"text-align: right;\">\n",
       "      <th></th>\n",
       "      <th>State</th>\n",
       "      <th>Account length</th>\n",
       "      <th>Area code</th>\n",
       "      <th>International plan</th>\n",
       "      <th>Voice mail plan</th>\n",
       "      <th>Number vmail messages</th>\n",
       "      <th>Total day minutes</th>\n",
       "      <th>Total day calls</th>\n",
       "      <th>Total day charge</th>\n",
       "      <th>Total eve minutes</th>\n",
       "      <th>Total eve calls</th>\n",
       "      <th>Total eve charge</th>\n",
       "      <th>Total night minutes</th>\n",
       "      <th>Total night calls</th>\n",
       "      <th>Total night charge</th>\n",
       "      <th>Total intl minutes</th>\n",
       "      <th>Total intl calls</th>\n",
       "      <th>Total intl charge</th>\n",
       "      <th>Customer service calls</th>\n",
       "      <th>Churn</th>\n",
       "    </tr>\n",
       "  </thead>\n",
       "  <tbody>\n",
       "    <tr>\n",
       "      <th>688</th>\n",
       "      <td>MN</td>\n",
       "      <td>13</td>\n",
       "      <td>510</td>\n",
       "      <td>No</td>\n",
       "      <td>Yes</td>\n",
       "      <td>21</td>\n",
       "      <td>315.6</td>\n",
       "      <td>105</td>\n",
       "      <td>53.65</td>\n",
       "      <td>208.9</td>\n",
       "      <td>71</td>\n",
       "      <td>17.76</td>\n",
       "      <td>260.1</td>\n",
       "      <td>123</td>\n",
       "      <td>11.70</td>\n",
       "      <td>12.1</td>\n",
       "      <td>3</td>\n",
       "      <td>3.27</td>\n",
       "      <td>3</td>\n",
       "      <td>0</td>\n",
       "    </tr>\n",
       "    <tr>\n",
       "      <th>2259</th>\n",
       "      <td>NC</td>\n",
       "      <td>210</td>\n",
       "      <td>415</td>\n",
       "      <td>No</td>\n",
       "      <td>Yes</td>\n",
       "      <td>31</td>\n",
       "      <td>313.8</td>\n",
       "      <td>87</td>\n",
       "      <td>53.35</td>\n",
       "      <td>147.7</td>\n",
       "      <td>103</td>\n",
       "      <td>12.55</td>\n",
       "      <td>192.7</td>\n",
       "      <td>97</td>\n",
       "      <td>8.67</td>\n",
       "      <td>10.1</td>\n",
       "      <td>7</td>\n",
       "      <td>2.73</td>\n",
       "      <td>3</td>\n",
       "      <td>0</td>\n",
       "    </tr>\n",
       "    <tr>\n",
       "      <th>534</th>\n",
       "      <td>LA</td>\n",
       "      <td>67</td>\n",
       "      <td>510</td>\n",
       "      <td>No</td>\n",
       "      <td>No</td>\n",
       "      <td>0</td>\n",
       "      <td>310.4</td>\n",
       "      <td>97</td>\n",
       "      <td>52.77</td>\n",
       "      <td>66.5</td>\n",
       "      <td>123</td>\n",
       "      <td>5.65</td>\n",
       "      <td>246.5</td>\n",
       "      <td>99</td>\n",
       "      <td>11.09</td>\n",
       "      <td>9.2</td>\n",
       "      <td>10</td>\n",
       "      <td>2.48</td>\n",
       "      <td>4</td>\n",
       "      <td>0</td>\n",
       "    </tr>\n",
       "    <tr>\n",
       "      <th>575</th>\n",
       "      <td>SD</td>\n",
       "      <td>114</td>\n",
       "      <td>415</td>\n",
       "      <td>No</td>\n",
       "      <td>Yes</td>\n",
       "      <td>36</td>\n",
       "      <td>309.9</td>\n",
       "      <td>90</td>\n",
       "      <td>52.68</td>\n",
       "      <td>200.3</td>\n",
       "      <td>89</td>\n",
       "      <td>17.03</td>\n",
       "      <td>183.5</td>\n",
       "      <td>105</td>\n",
       "      <td>8.26</td>\n",
       "      <td>14.2</td>\n",
       "      <td>2</td>\n",
       "      <td>3.83</td>\n",
       "      <td>1</td>\n",
       "      <td>0</td>\n",
       "    </tr>\n",
       "    <tr>\n",
       "      <th>2858</th>\n",
       "      <td>AL</td>\n",
       "      <td>141</td>\n",
       "      <td>510</td>\n",
       "      <td>No</td>\n",
       "      <td>Yes</td>\n",
       "      <td>28</td>\n",
       "      <td>308.0</td>\n",
       "      <td>123</td>\n",
       "      <td>52.36</td>\n",
       "      <td>247.8</td>\n",
       "      <td>128</td>\n",
       "      <td>21.06</td>\n",
       "      <td>152.9</td>\n",
       "      <td>103</td>\n",
       "      <td>6.88</td>\n",
       "      <td>7.4</td>\n",
       "      <td>3</td>\n",
       "      <td>2.00</td>\n",
       "      <td>1</td>\n",
       "      <td>0</td>\n",
       "    </tr>\n",
       "  </tbody>\n",
       "</table>\n",
       "</div>"
      ],
      "text/plain": [
       "     State  Account length  Area code International plan Voice mail plan  \\\n",
       "688     MN              13        510                 No             Yes   \n",
       "2259    NC             210        415                 No             Yes   \n",
       "534     LA              67        510                 No              No   \n",
       "575     SD             114        415                 No             Yes   \n",
       "2858    AL             141        510                 No             Yes   \n",
       "\n",
       "      Number vmail messages  Total day minutes  Total day calls  \\\n",
       "688                      21              315.6              105   \n",
       "2259                     31              313.8               87   \n",
       "534                       0              310.4               97   \n",
       "575                      36              309.9               90   \n",
       "2858                     28              308.0              123   \n",
       "\n",
       "      Total day charge  Total eve minutes  Total eve calls  Total eve charge  \\\n",
       "688              53.65              208.9               71             17.76   \n",
       "2259             53.35              147.7              103             12.55   \n",
       "534              52.77               66.5              123              5.65   \n",
       "575              52.68              200.3               89             17.03   \n",
       "2858             52.36              247.8              128             21.06   \n",
       "\n",
       "      Total night minutes  Total night calls  Total night charge  \\\n",
       "688                 260.1                123               11.70   \n",
       "2259                192.7                 97                8.67   \n",
       "534                 246.5                 99               11.09   \n",
       "575                 183.5                105                8.26   \n",
       "2858                152.9                103                6.88   \n",
       "\n",
       "      Total intl minutes  Total intl calls  Total intl charge  \\\n",
       "688                 12.1                 3               3.27   \n",
       "2259                10.1                 7               2.73   \n",
       "534                  9.2                10               2.48   \n",
       "575                 14.2                 2               3.83   \n",
       "2858                 7.4                 3               2.00   \n",
       "\n",
       "      Customer service calls  Churn  \n",
       "688                        3      0  \n",
       "2259                       3      0  \n",
       "534                        4      0  \n",
       "575                        1      0  \n",
       "2858                       1      0  "
      ]
     },
     "execution_count": 12,
     "metadata": {},
     "output_type": "execute_result"
    }
   ],
   "source": [
    "df.sort_values(by=['Churn', 'Total day charge'],\n",
    "        ascending=[True, False]).head()"
   ]
  },
  {
   "cell_type": "markdown",
   "metadata": {
    "slideshow": {
     "slide_type": "slide"
    }
   },
   "source": [
    "### Індексація та отримання даних"
   ]
  },
  {
   "cell_type": "markdown",
   "metadata": {
    "slideshow": {
     "slide_type": "subslide"
    }
   },
   "source": [
    "`DataFrame` можна індексувати по-різному. У зв'язку з цим розглянемо різні способи індексації та отримання потрібних нам даних з датафрейма на прикладі простих запитань.\n",
    "\n",
    "Для відбору окремого стовпця можна використовувати конструкцію виду `DataFrame['Name']`. Скористаємося цим для відповіді на запитання: **яка частка нелояльних користувачів в нашому датафреймі?**"
   ]
  },
  {
   "cell_type": "code",
   "execution_count": 13,
   "metadata": {
    "slideshow": {
     "slide_type": "-"
    }
   },
   "outputs": [
    {
     "data": {
      "text/plain": [
       "0.14491449144914492"
      ]
     },
     "execution_count": 13,
     "metadata": {},
     "output_type": "execute_result"
    }
   ],
   "source": [
    "df['Churn'].mean()"
   ]
  },
  {
   "cell_type": "markdown",
   "metadata": {
    "slideshow": {
     "slide_type": "skip"
    }
   },
   "source": [
    "14,5% — доволі поганий показник для компанії, з таким відсотком відтоку можна і збанкротувати."
   ]
  },
  {
   "cell_type": "markdown",
   "metadata": {
    "slideshow": {
     "slide_type": "subslide"
    }
   },
   "source": [
    "Дуже зручною є логічна індексація `DataFrame` за одним стовпцем. Виглядає вона наступним чином: `df[P(df['Name'])]`, де `P` – це деяка логічна умова, що перевіряється для кожного елемента стовпця `Name`. Результатом такої індексації є `DataFrame`, що складається тільки з рядків, що задовольняють умову `P` за стовпцем `Name`.\n",
    "\n",
    "Скористаємося цим для відповіді на запитання: **які середні значення числових ознак серед нелояльних користувачів?**"
   ]
  },
  {
   "cell_type": "code",
   "execution_count": 14,
   "metadata": {
    "scrolled": true,
    "slideshow": {
     "slide_type": "-"
    }
   },
   "outputs": [
    {
     "data": {
      "text/plain": [
       "Account length            102.66\n",
       "Area code                 437.82\n",
       "Number vmail messages       5.12\n",
       "Total day minutes         206.91\n",
       "Total day calls           101.34\n",
       "Total day charge           35.18\n",
       "Total eve minutes         212.41\n",
       "Total eve calls           100.56\n",
       "Total eve charge           18.05\n",
       "Total night minutes       205.23\n",
       "Total night calls         100.40\n",
       "Total night charge          9.24\n",
       "Total intl minutes         10.70\n",
       "Total intl calls            4.16\n",
       "Total intl charge           2.89\n",
       "Customer service calls      2.23\n",
       "Churn                       1.00\n",
       "dtype: float64"
      ]
     },
     "execution_count": 14,
     "metadata": {},
     "output_type": "execute_result"
    }
   ],
   "source": [
    "df[df['Churn'] == 1].mean()"
   ]
  },
  {
   "cell_type": "markdown",
   "metadata": {
    "slideshow": {
     "slide_type": "subslide"
    }
   },
   "source": [
    "Скомбінувавши попередні два види індексації, дамо відповідь на запитання: **скільки в середньому протягом дня розмовляють по телефону нелояльні користувачі**?"
   ]
  },
  {
   "cell_type": "code",
   "execution_count": 15,
   "metadata": {
    "slideshow": {
     "slide_type": "-"
    }
   },
   "outputs": [
    {
     "data": {
      "text/plain": [
       "206.91407867494814"
      ]
     },
     "execution_count": 15,
     "metadata": {},
     "output_type": "execute_result"
    }
   ],
   "source": [
    "df[df['Churn'] == 1]['Total day minutes'].mean()"
   ]
  },
  {
   "cell_type": "markdown",
   "metadata": {
    "slideshow": {
     "slide_type": "subslide"
    }
   },
   "source": [
    "**Яка максимальна тривалість міжнародних дзвінків серед лояльних користувачів (`'Churn' == 0`), що не користуються послугою міжнародного роумінгу (`'International plan' == 'No'`)?**"
   ]
  },
  {
   "cell_type": "code",
   "execution_count": 16,
   "metadata": {
    "slideshow": {
     "slide_type": "-"
    }
   },
   "outputs": [
    {
     "data": {
      "text/plain": [
       "18.9"
      ]
     },
     "execution_count": 16,
     "metadata": {},
     "output_type": "execute_result"
    }
   ],
   "source": [
    "df[(df['Churn'] == 0) & (df['International plan'] == 'No')]['Total intl minutes'].max()"
   ]
  },
  {
   "cell_type": "markdown",
   "metadata": {
    "slideshow": {
     "slide_type": "subslide"
    }
   },
   "source": [
    "Датафрейми можна індексувати як за назвою стовпця або рядка, так і за порядковим номером. Для індексації **за назвою** використовується метод **`loc`**, **за номером** — **`iloc`**."
   ]
  },
  {
   "cell_type": "code",
   "execution_count": 17,
   "metadata": {
    "scrolled": true,
    "slideshow": {
     "slide_type": "subslide"
    }
   },
   "outputs": [
    {
     "data": {
      "text/html": [
       "<div>\n",
       "<style scoped>\n",
       "    .dataframe tbody tr th:only-of-type {\n",
       "        vertical-align: middle;\n",
       "    }\n",
       "\n",
       "    .dataframe tbody tr th {\n",
       "        vertical-align: top;\n",
       "    }\n",
       "\n",
       "    .dataframe thead th {\n",
       "        text-align: right;\n",
       "    }\n",
       "</style>\n",
       "<table border=\"1\" class=\"dataframe\">\n",
       "  <thead>\n",
       "    <tr style=\"text-align: right;\">\n",
       "      <th></th>\n",
       "      <th>State</th>\n",
       "      <th>Account length</th>\n",
       "      <th>Area code</th>\n",
       "    </tr>\n",
       "  </thead>\n",
       "  <tbody>\n",
       "    <tr>\n",
       "      <th>0</th>\n",
       "      <td>KS</td>\n",
       "      <td>128</td>\n",
       "      <td>415</td>\n",
       "    </tr>\n",
       "    <tr>\n",
       "      <th>1</th>\n",
       "      <td>OH</td>\n",
       "      <td>107</td>\n",
       "      <td>415</td>\n",
       "    </tr>\n",
       "    <tr>\n",
       "      <th>2</th>\n",
       "      <td>NJ</td>\n",
       "      <td>137</td>\n",
       "      <td>415</td>\n",
       "    </tr>\n",
       "    <tr>\n",
       "      <th>3</th>\n",
       "      <td>OH</td>\n",
       "      <td>84</td>\n",
       "      <td>408</td>\n",
       "    </tr>\n",
       "    <tr>\n",
       "      <th>4</th>\n",
       "      <td>OK</td>\n",
       "      <td>75</td>\n",
       "      <td>415</td>\n",
       "    </tr>\n",
       "    <tr>\n",
       "      <th>5</th>\n",
       "      <td>AL</td>\n",
       "      <td>118</td>\n",
       "      <td>510</td>\n",
       "    </tr>\n",
       "  </tbody>\n",
       "</table>\n",
       "</div>"
      ],
      "text/plain": [
       "  State  Account length  Area code\n",
       "0    KS             128        415\n",
       "1    OH             107        415\n",
       "2    NJ             137        415\n",
       "3    OH              84        408\n",
       "4    OK              75        415\n",
       "5    AL             118        510"
      ]
     },
     "execution_count": 17,
     "metadata": {},
     "output_type": "execute_result"
    }
   ],
   "source": [
    "df.loc[0:5, 'State':'Area code']"
   ]
  },
  {
   "cell_type": "code",
   "execution_count": 18,
   "metadata": {
    "scrolled": true,
    "slideshow": {
     "slide_type": "-"
    }
   },
   "outputs": [
    {
     "data": {
      "text/html": [
       "<div>\n",
       "<style scoped>\n",
       "    .dataframe tbody tr th:only-of-type {\n",
       "        vertical-align: middle;\n",
       "    }\n",
       "\n",
       "    .dataframe tbody tr th {\n",
       "        vertical-align: top;\n",
       "    }\n",
       "\n",
       "    .dataframe thead th {\n",
       "        text-align: right;\n",
       "    }\n",
       "</style>\n",
       "<table border=\"1\" class=\"dataframe\">\n",
       "  <thead>\n",
       "    <tr style=\"text-align: right;\">\n",
       "      <th></th>\n",
       "      <th>State</th>\n",
       "      <th>Account length</th>\n",
       "      <th>Area code</th>\n",
       "    </tr>\n",
       "  </thead>\n",
       "  <tbody>\n",
       "    <tr>\n",
       "      <th>0</th>\n",
       "      <td>KS</td>\n",
       "      <td>128</td>\n",
       "      <td>415</td>\n",
       "    </tr>\n",
       "    <tr>\n",
       "      <th>1</th>\n",
       "      <td>OH</td>\n",
       "      <td>107</td>\n",
       "      <td>415</td>\n",
       "    </tr>\n",
       "    <tr>\n",
       "      <th>2</th>\n",
       "      <td>NJ</td>\n",
       "      <td>137</td>\n",
       "      <td>415</td>\n",
       "    </tr>\n",
       "    <tr>\n",
       "      <th>3</th>\n",
       "      <td>OH</td>\n",
       "      <td>84</td>\n",
       "      <td>408</td>\n",
       "    </tr>\n",
       "    <tr>\n",
       "      <th>4</th>\n",
       "      <td>OK</td>\n",
       "      <td>75</td>\n",
       "      <td>415</td>\n",
       "    </tr>\n",
       "  </tbody>\n",
       "</table>\n",
       "</div>"
      ],
      "text/plain": [
       "  State  Account length  Area code\n",
       "0    KS             128        415\n",
       "1    OH             107        415\n",
       "2    NJ             137        415\n",
       "3    OH              84        408\n",
       "4    OK              75        415"
      ]
     },
     "execution_count": 18,
     "metadata": {},
     "output_type": "execute_result"
    }
   ],
   "source": [
    "df.iloc[0:5, 0:3]"
   ]
  },
  {
   "cell_type": "markdown",
   "metadata": {},
   "source": [
    "У першому випадку ми говоримо *«передай нам значення для id рядків від 0 до 5 і для стовпців від State до Area code»*, а в другому — *«передай нам значення перших п'яти рядків в перших трьох стовпцях»*.\n",
    "\n",
    "У разі `iloc` зріз працює як зазвичай, проте у випадку `loc` враховуються і початок, і кінець зрізу."
   ]
  },
  {
   "cell_type": "markdown",
   "metadata": {
    "slideshow": {
     "slide_type": "-"
    }
   },
   "source": [
    "Метод `ix` індексує і за назвою, і за номером, але він викликає плутанину, і тому був оголошений застарілим (deprecated)."
   ]
  },
  {
   "cell_type": "markdown",
   "metadata": {
    "slideshow": {
     "slide_type": "subslide"
    }
   },
   "source": [
    "Якщо нам потрібний перший або останній рядок датафрейму, користуємося конструкцією `df[:1]` або `df[-1:]`:"
   ]
  },
  {
   "cell_type": "code",
   "execution_count": 19,
   "metadata": {
    "scrolled": true,
    "slideshow": {
     "slide_type": "-"
    }
   },
   "outputs": [
    {
     "data": {
      "text/html": [
       "<div>\n",
       "<style scoped>\n",
       "    .dataframe tbody tr th:only-of-type {\n",
       "        vertical-align: middle;\n",
       "    }\n",
       "\n",
       "    .dataframe tbody tr th {\n",
       "        vertical-align: top;\n",
       "    }\n",
       "\n",
       "    .dataframe thead th {\n",
       "        text-align: right;\n",
       "    }\n",
       "</style>\n",
       "<table border=\"1\" class=\"dataframe\">\n",
       "  <thead>\n",
       "    <tr style=\"text-align: right;\">\n",
       "      <th></th>\n",
       "      <th>State</th>\n",
       "      <th>Account length</th>\n",
       "      <th>Area code</th>\n",
       "      <th>International plan</th>\n",
       "      <th>Voice mail plan</th>\n",
       "      <th>Number vmail messages</th>\n",
       "      <th>Total day minutes</th>\n",
       "      <th>Total day calls</th>\n",
       "      <th>Total day charge</th>\n",
       "      <th>Total eve minutes</th>\n",
       "      <th>Total eve calls</th>\n",
       "      <th>Total eve charge</th>\n",
       "      <th>Total night minutes</th>\n",
       "      <th>Total night calls</th>\n",
       "      <th>Total night charge</th>\n",
       "      <th>Total intl minutes</th>\n",
       "      <th>Total intl calls</th>\n",
       "      <th>Total intl charge</th>\n",
       "      <th>Customer service calls</th>\n",
       "      <th>Churn</th>\n",
       "    </tr>\n",
       "  </thead>\n",
       "  <tbody>\n",
       "    <tr>\n",
       "      <th>3332</th>\n",
       "      <td>TN</td>\n",
       "      <td>74</td>\n",
       "      <td>415</td>\n",
       "      <td>No</td>\n",
       "      <td>Yes</td>\n",
       "      <td>25</td>\n",
       "      <td>234.4</td>\n",
       "      <td>113</td>\n",
       "      <td>39.85</td>\n",
       "      <td>265.9</td>\n",
       "      <td>82</td>\n",
       "      <td>22.6</td>\n",
       "      <td>241.4</td>\n",
       "      <td>77</td>\n",
       "      <td>10.86</td>\n",
       "      <td>13.7</td>\n",
       "      <td>4</td>\n",
       "      <td>3.7</td>\n",
       "      <td>0</td>\n",
       "      <td>0</td>\n",
       "    </tr>\n",
       "  </tbody>\n",
       "</table>\n",
       "</div>"
      ],
      "text/plain": [
       "     State  Account length  Area code International plan Voice mail plan  \\\n",
       "3332    TN              74        415                 No             Yes   \n",
       "\n",
       "      Number vmail messages  Total day minutes  Total day calls  \\\n",
       "3332                     25              234.4              113   \n",
       "\n",
       "      Total day charge  Total eve minutes  Total eve calls  Total eve charge  \\\n",
       "3332             39.85              265.9               82              22.6   \n",
       "\n",
       "      Total night minutes  Total night calls  Total night charge  \\\n",
       "3332                241.4                 77               10.86   \n",
       "\n",
       "      Total intl minutes  Total intl calls  Total intl charge  \\\n",
       "3332                13.7                 4                3.7   \n",
       "\n",
       "      Customer service calls  Churn  \n",
       "3332                       0      0  "
      ]
     },
     "execution_count": 19,
     "metadata": {},
     "output_type": "execute_result"
    }
   ],
   "source": [
    "df[-1:]"
   ]
  },
  {
   "cell_type": "markdown",
   "metadata": {
    "lang": "uk",
    "slideshow": {
     "slide_type": "slide"
    }
   },
   "source": [
    "### Використання функцій: `apply`,` map` і ін."
   ]
  },
  {
   "cell_type": "markdown",
   "metadata": {
    "lang": "uk",
    "slideshow": {
     "slide_type": "subslide"
    }
   },
   "source": [
    "**Застосування функції до кожного стовпця:**"
   ]
  },
  {
   "cell_type": "code",
   "execution_count": 20,
   "metadata": {
    "slideshow": {
     "slide_type": "-"
    }
   },
   "outputs": [
    {
     "data": {
      "text/plain": [
       "State                          WY\n",
       "Account length                243\n",
       "Area code                     510\n",
       "International plan            Yes\n",
       "Voice mail plan               Yes\n",
       "Number vmail messages          51\n",
       "Total day minutes         3.5e+02\n",
       "Total day calls               165\n",
       "Total day charge               60\n",
       "Total eve minutes         3.6e+02\n",
       "Total eve calls               170\n",
       "Total eve charge               31\n",
       "Total night minutes         4e+02\n",
       "Total night calls             175\n",
       "Total night charge             18\n",
       "Total intl minutes             20\n",
       "Total intl calls               20\n",
       "Total intl charge             5.4\n",
       "Customer service calls          9\n",
       "Churn                           1\n",
       "dtype: object"
      ]
     },
     "execution_count": 20,
     "metadata": {},
     "output_type": "execute_result"
    }
   ],
   "source": [
    "df.apply(np.max) "
   ]
  },
  {
   "cell_type": "markdown",
   "metadata": {
    "lang": "uk",
    "slideshow": {
     "slide_type": "-"
    }
   },
   "source": [
    "Метод `apply` можна використовувати і для того, щоб застосувати функцію до кожного рядка. Для цього потрібно вказати `axis = 1`."
   ]
  },
  {
   "cell_type": "markdown",
   "metadata": {
    "lang": "uk",
    "slideshow": {
     "slide_type": "subslide"
    }
   },
   "source": [
    "**Застосування функції до кожної комірки стовпця**\n",
    "\n",
    "Припустимо, з якоїсь причини нас цікавлять всі люди з штатів, назви яких починаються на 'W'. В даному випадку це можна зробити по-різному, але найбільшу свободу дає зв'язка `apply`-`lambda` – застосування функції до всіх значень в стовпці."
   ]
  },
  {
   "cell_type": "code",
   "execution_count": 21,
   "metadata": {
    "scrolled": false,
    "slideshow": {
     "slide_type": "-"
    }
   },
   "outputs": [
    {
     "data": {
      "text/html": [
       "<div>\n",
       "<style scoped>\n",
       "    .dataframe tbody tr th:only-of-type {\n",
       "        vertical-align: middle;\n",
       "    }\n",
       "\n",
       "    .dataframe tbody tr th {\n",
       "        vertical-align: top;\n",
       "    }\n",
       "\n",
       "    .dataframe thead th {\n",
       "        text-align: right;\n",
       "    }\n",
       "</style>\n",
       "<table border=\"1\" class=\"dataframe\">\n",
       "  <thead>\n",
       "    <tr style=\"text-align: right;\">\n",
       "      <th></th>\n",
       "      <th>State</th>\n",
       "      <th>Account length</th>\n",
       "      <th>Area code</th>\n",
       "      <th>International plan</th>\n",
       "      <th>Voice mail plan</th>\n",
       "      <th>Number vmail messages</th>\n",
       "      <th>Total day minutes</th>\n",
       "      <th>Total day calls</th>\n",
       "      <th>Total day charge</th>\n",
       "      <th>Total eve minutes</th>\n",
       "      <th>Total eve calls</th>\n",
       "      <th>Total eve charge</th>\n",
       "      <th>Total night minutes</th>\n",
       "      <th>Total night calls</th>\n",
       "      <th>Total night charge</th>\n",
       "      <th>Total intl minutes</th>\n",
       "      <th>Total intl calls</th>\n",
       "      <th>Total intl charge</th>\n",
       "      <th>Customer service calls</th>\n",
       "      <th>Churn</th>\n",
       "    </tr>\n",
       "  </thead>\n",
       "  <tbody>\n",
       "    <tr>\n",
       "      <th>9</th>\n",
       "      <td>WV</td>\n",
       "      <td>141</td>\n",
       "      <td>415</td>\n",
       "      <td>Yes</td>\n",
       "      <td>Yes</td>\n",
       "      <td>37</td>\n",
       "      <td>258.6</td>\n",
       "      <td>84</td>\n",
       "      <td>43.96</td>\n",
       "      <td>222.0</td>\n",
       "      <td>111</td>\n",
       "      <td>18.87</td>\n",
       "      <td>326.4</td>\n",
       "      <td>97</td>\n",
       "      <td>14.69</td>\n",
       "      <td>11.2</td>\n",
       "      <td>5</td>\n",
       "      <td>3.02</td>\n",
       "      <td>0</td>\n",
       "      <td>0</td>\n",
       "    </tr>\n",
       "    <tr>\n",
       "      <th>26</th>\n",
       "      <td>WY</td>\n",
       "      <td>57</td>\n",
       "      <td>408</td>\n",
       "      <td>No</td>\n",
       "      <td>Yes</td>\n",
       "      <td>39</td>\n",
       "      <td>213.0</td>\n",
       "      <td>115</td>\n",
       "      <td>36.21</td>\n",
       "      <td>191.1</td>\n",
       "      <td>112</td>\n",
       "      <td>16.24</td>\n",
       "      <td>182.7</td>\n",
       "      <td>115</td>\n",
       "      <td>8.22</td>\n",
       "      <td>9.5</td>\n",
       "      <td>3</td>\n",
       "      <td>2.57</td>\n",
       "      <td>0</td>\n",
       "      <td>0</td>\n",
       "    </tr>\n",
       "    <tr>\n",
       "      <th>44</th>\n",
       "      <td>WI</td>\n",
       "      <td>64</td>\n",
       "      <td>510</td>\n",
       "      <td>No</td>\n",
       "      <td>No</td>\n",
       "      <td>0</td>\n",
       "      <td>154.0</td>\n",
       "      <td>67</td>\n",
       "      <td>26.18</td>\n",
       "      <td>225.8</td>\n",
       "      <td>118</td>\n",
       "      <td>19.19</td>\n",
       "      <td>265.3</td>\n",
       "      <td>86</td>\n",
       "      <td>11.94</td>\n",
       "      <td>3.5</td>\n",
       "      <td>3</td>\n",
       "      <td>0.95</td>\n",
       "      <td>1</td>\n",
       "      <td>0</td>\n",
       "    </tr>\n",
       "    <tr>\n",
       "      <th>49</th>\n",
       "      <td>WY</td>\n",
       "      <td>97</td>\n",
       "      <td>415</td>\n",
       "      <td>No</td>\n",
       "      <td>Yes</td>\n",
       "      <td>24</td>\n",
       "      <td>133.2</td>\n",
       "      <td>135</td>\n",
       "      <td>22.64</td>\n",
       "      <td>217.2</td>\n",
       "      <td>58</td>\n",
       "      <td>18.46</td>\n",
       "      <td>70.6</td>\n",
       "      <td>79</td>\n",
       "      <td>3.18</td>\n",
       "      <td>11.0</td>\n",
       "      <td>3</td>\n",
       "      <td>2.97</td>\n",
       "      <td>1</td>\n",
       "      <td>0</td>\n",
       "    </tr>\n",
       "    <tr>\n",
       "      <th>54</th>\n",
       "      <td>WY</td>\n",
       "      <td>87</td>\n",
       "      <td>415</td>\n",
       "      <td>No</td>\n",
       "      <td>No</td>\n",
       "      <td>0</td>\n",
       "      <td>151.0</td>\n",
       "      <td>83</td>\n",
       "      <td>25.67</td>\n",
       "      <td>219.7</td>\n",
       "      <td>116</td>\n",
       "      <td>18.67</td>\n",
       "      <td>203.9</td>\n",
       "      <td>127</td>\n",
       "      <td>9.18</td>\n",
       "      <td>9.7</td>\n",
       "      <td>3</td>\n",
       "      <td>2.62</td>\n",
       "      <td>5</td>\n",
       "      <td>1</td>\n",
       "    </tr>\n",
       "  </tbody>\n",
       "</table>\n",
       "</div>"
      ],
      "text/plain": [
       "   State  Account length  Area code International plan Voice mail plan  \\\n",
       "9     WV             141        415                Yes             Yes   \n",
       "26    WY              57        408                 No             Yes   \n",
       "44    WI              64        510                 No              No   \n",
       "49    WY              97        415                 No             Yes   \n",
       "54    WY              87        415                 No              No   \n",
       "\n",
       "    Number vmail messages  Total day minutes  Total day calls  \\\n",
       "9                      37              258.6               84   \n",
       "26                     39              213.0              115   \n",
       "44                      0              154.0               67   \n",
       "49                     24              133.2              135   \n",
       "54                      0              151.0               83   \n",
       "\n",
       "    Total day charge  Total eve minutes  Total eve calls  Total eve charge  \\\n",
       "9              43.96              222.0              111             18.87   \n",
       "26             36.21              191.1              112             16.24   \n",
       "44             26.18              225.8              118             19.19   \n",
       "49             22.64              217.2               58             18.46   \n",
       "54             25.67              219.7              116             18.67   \n",
       "\n",
       "    Total night minutes  Total night calls  Total night charge  \\\n",
       "9                 326.4                 97               14.69   \n",
       "26                182.7                115                8.22   \n",
       "44                265.3                 86               11.94   \n",
       "49                 70.6                 79                3.18   \n",
       "54                203.9                127                9.18   \n",
       "\n",
       "    Total intl minutes  Total intl calls  Total intl charge  \\\n",
       "9                 11.2                 5               3.02   \n",
       "26                 9.5                 3               2.57   \n",
       "44                 3.5                 3               0.95   \n",
       "49                11.0                 3               2.97   \n",
       "54                 9.7                 3               2.62   \n",
       "\n",
       "    Customer service calls  Churn  \n",
       "9                        0      0  \n",
       "26                       0      0  \n",
       "44                       1      0  \n",
       "49                       1      0  \n",
       "54                       5      1  "
      ]
     },
     "execution_count": 21,
     "metadata": {},
     "output_type": "execute_result"
    }
   ],
   "source": [
    "df[df['State'].apply(lambda state: state[0] == 'W')].head()"
   ]
  },
  {
   "cell_type": "markdown",
   "metadata": {
    "lang": "uk",
    "slideshow": {
     "slide_type": "subslide"
    }
   },
   "source": [
    "Метод `map` можна використовувати для **заміни значень в стовпці**, передавши йому в якості аргументу словник виду `{old_value: new_value}`:"
   ]
  },
  {
   "cell_type": "code",
   "execution_count": 22,
   "metadata": {
    "slideshow": {
     "slide_type": "-"
    }
   },
   "outputs": [
    {
     "data": {
      "text/html": [
       "<div>\n",
       "<style scoped>\n",
       "    .dataframe tbody tr th:only-of-type {\n",
       "        vertical-align: middle;\n",
       "    }\n",
       "\n",
       "    .dataframe tbody tr th {\n",
       "        vertical-align: top;\n",
       "    }\n",
       "\n",
       "    .dataframe thead th {\n",
       "        text-align: right;\n",
       "    }\n",
       "</style>\n",
       "<table border=\"1\" class=\"dataframe\">\n",
       "  <thead>\n",
       "    <tr style=\"text-align: right;\">\n",
       "      <th></th>\n",
       "      <th>State</th>\n",
       "      <th>Account length</th>\n",
       "      <th>Area code</th>\n",
       "      <th>International plan</th>\n",
       "      <th>Voice mail plan</th>\n",
       "      <th>Number vmail messages</th>\n",
       "      <th>Total day minutes</th>\n",
       "      <th>Total day calls</th>\n",
       "      <th>Total day charge</th>\n",
       "      <th>Total eve minutes</th>\n",
       "      <th>Total eve calls</th>\n",
       "      <th>Total eve charge</th>\n",
       "      <th>Total night minutes</th>\n",
       "      <th>Total night calls</th>\n",
       "      <th>Total night charge</th>\n",
       "      <th>Total intl minutes</th>\n",
       "      <th>Total intl calls</th>\n",
       "      <th>Total intl charge</th>\n",
       "      <th>Customer service calls</th>\n",
       "      <th>Churn</th>\n",
       "    </tr>\n",
       "  </thead>\n",
       "  <tbody>\n",
       "    <tr>\n",
       "      <th>0</th>\n",
       "      <td>KS</td>\n",
       "      <td>128</td>\n",
       "      <td>415</td>\n",
       "      <td>False</td>\n",
       "      <td>Yes</td>\n",
       "      <td>25</td>\n",
       "      <td>265.1</td>\n",
       "      <td>110</td>\n",
       "      <td>45.07</td>\n",
       "      <td>197.4</td>\n",
       "      <td>99</td>\n",
       "      <td>16.78</td>\n",
       "      <td>244.7</td>\n",
       "      <td>91</td>\n",
       "      <td>11.01</td>\n",
       "      <td>10.0</td>\n",
       "      <td>3</td>\n",
       "      <td>2.70</td>\n",
       "      <td>1</td>\n",
       "      <td>0</td>\n",
       "    </tr>\n",
       "    <tr>\n",
       "      <th>1</th>\n",
       "      <td>OH</td>\n",
       "      <td>107</td>\n",
       "      <td>415</td>\n",
       "      <td>False</td>\n",
       "      <td>Yes</td>\n",
       "      <td>26</td>\n",
       "      <td>161.6</td>\n",
       "      <td>123</td>\n",
       "      <td>27.47</td>\n",
       "      <td>195.5</td>\n",
       "      <td>103</td>\n",
       "      <td>16.62</td>\n",
       "      <td>254.4</td>\n",
       "      <td>103</td>\n",
       "      <td>11.45</td>\n",
       "      <td>13.7</td>\n",
       "      <td>3</td>\n",
       "      <td>3.70</td>\n",
       "      <td>1</td>\n",
       "      <td>0</td>\n",
       "    </tr>\n",
       "    <tr>\n",
       "      <th>2</th>\n",
       "      <td>NJ</td>\n",
       "      <td>137</td>\n",
       "      <td>415</td>\n",
       "      <td>False</td>\n",
       "      <td>No</td>\n",
       "      <td>0</td>\n",
       "      <td>243.4</td>\n",
       "      <td>114</td>\n",
       "      <td>41.38</td>\n",
       "      <td>121.2</td>\n",
       "      <td>110</td>\n",
       "      <td>10.30</td>\n",
       "      <td>162.6</td>\n",
       "      <td>104</td>\n",
       "      <td>7.32</td>\n",
       "      <td>12.2</td>\n",
       "      <td>5</td>\n",
       "      <td>3.29</td>\n",
       "      <td>0</td>\n",
       "      <td>0</td>\n",
       "    </tr>\n",
       "    <tr>\n",
       "      <th>3</th>\n",
       "      <td>OH</td>\n",
       "      <td>84</td>\n",
       "      <td>408</td>\n",
       "      <td>True</td>\n",
       "      <td>No</td>\n",
       "      <td>0</td>\n",
       "      <td>299.4</td>\n",
       "      <td>71</td>\n",
       "      <td>50.90</td>\n",
       "      <td>61.9</td>\n",
       "      <td>88</td>\n",
       "      <td>5.26</td>\n",
       "      <td>196.9</td>\n",
       "      <td>89</td>\n",
       "      <td>8.86</td>\n",
       "      <td>6.6</td>\n",
       "      <td>7</td>\n",
       "      <td>1.78</td>\n",
       "      <td>2</td>\n",
       "      <td>0</td>\n",
       "    </tr>\n",
       "    <tr>\n",
       "      <th>4</th>\n",
       "      <td>OK</td>\n",
       "      <td>75</td>\n",
       "      <td>415</td>\n",
       "      <td>True</td>\n",
       "      <td>No</td>\n",
       "      <td>0</td>\n",
       "      <td>166.7</td>\n",
       "      <td>113</td>\n",
       "      <td>28.34</td>\n",
       "      <td>148.3</td>\n",
       "      <td>122</td>\n",
       "      <td>12.61</td>\n",
       "      <td>186.9</td>\n",
       "      <td>121</td>\n",
       "      <td>8.41</td>\n",
       "      <td>10.1</td>\n",
       "      <td>3</td>\n",
       "      <td>2.73</td>\n",
       "      <td>3</td>\n",
       "      <td>0</td>\n",
       "    </tr>\n",
       "  </tbody>\n",
       "</table>\n",
       "</div>"
      ],
      "text/plain": [
       "  State  Account length  Area code  International plan Voice mail plan  \\\n",
       "0    KS             128        415               False             Yes   \n",
       "1    OH             107        415               False             Yes   \n",
       "2    NJ             137        415               False              No   \n",
       "3    OH              84        408                True              No   \n",
       "4    OK              75        415                True              No   \n",
       "\n",
       "   Number vmail messages  Total day minutes  Total day calls  \\\n",
       "0                     25              265.1              110   \n",
       "1                     26              161.6              123   \n",
       "2                      0              243.4              114   \n",
       "3                      0              299.4               71   \n",
       "4                      0              166.7              113   \n",
       "\n",
       "   Total day charge  Total eve minutes  Total eve calls  Total eve charge  \\\n",
       "0             45.07              197.4               99             16.78   \n",
       "1             27.47              195.5              103             16.62   \n",
       "2             41.38              121.2              110             10.30   \n",
       "3             50.90               61.9               88              5.26   \n",
       "4             28.34              148.3              122             12.61   \n",
       "\n",
       "   Total night minutes  Total night calls  Total night charge  \\\n",
       "0                244.7                 91               11.01   \n",
       "1                254.4                103               11.45   \n",
       "2                162.6                104                7.32   \n",
       "3                196.9                 89                8.86   \n",
       "4                186.9                121                8.41   \n",
       "\n",
       "   Total intl minutes  Total intl calls  Total intl charge  \\\n",
       "0                10.0                 3               2.70   \n",
       "1                13.7                 3               3.70   \n",
       "2                12.2                 5               3.29   \n",
       "3                 6.6                 7               1.78   \n",
       "4                10.1                 3               2.73   \n",
       "\n",
       "   Customer service calls  Churn  \n",
       "0                       1      0  \n",
       "1                       1      0  \n",
       "2                       0      0  \n",
       "3                       2      0  \n",
       "4                       3      0  "
      ]
     },
     "execution_count": 22,
     "metadata": {},
     "output_type": "execute_result"
    }
   ],
   "source": [
    "d = {'No' : False, 'Yes' : True}\n",
    "df['International plan'] = df['International plan'].map(d)\n",
    "df.head()"
   ]
  },
  {
   "cell_type": "markdown",
   "metadata": {
    "lang": "uk",
    "slideshow": {
     "slide_type": "fragment"
    }
   },
   "source": [
    "Аналогічну операцію можна реалізувати за допомогою методу `replace`:"
   ]
  },
  {
   "cell_type": "code",
   "execution_count": 23,
   "metadata": {
    "slideshow": {
     "slide_type": "-"
    }
   },
   "outputs": [
    {
     "data": {
      "text/html": [
       "<div>\n",
       "<style scoped>\n",
       "    .dataframe tbody tr th:only-of-type {\n",
       "        vertical-align: middle;\n",
       "    }\n",
       "\n",
       "    .dataframe tbody tr th {\n",
       "        vertical-align: top;\n",
       "    }\n",
       "\n",
       "    .dataframe thead th {\n",
       "        text-align: right;\n",
       "    }\n",
       "</style>\n",
       "<table border=\"1\" class=\"dataframe\">\n",
       "  <thead>\n",
       "    <tr style=\"text-align: right;\">\n",
       "      <th></th>\n",
       "      <th>State</th>\n",
       "      <th>Account length</th>\n",
       "      <th>Area code</th>\n",
       "      <th>International plan</th>\n",
       "      <th>Voice mail plan</th>\n",
       "      <th>Number vmail messages</th>\n",
       "      <th>Total day minutes</th>\n",
       "      <th>Total day calls</th>\n",
       "      <th>Total day charge</th>\n",
       "      <th>Total eve minutes</th>\n",
       "      <th>Total eve calls</th>\n",
       "      <th>Total eve charge</th>\n",
       "      <th>Total night minutes</th>\n",
       "      <th>Total night calls</th>\n",
       "      <th>Total night charge</th>\n",
       "      <th>Total intl minutes</th>\n",
       "      <th>Total intl calls</th>\n",
       "      <th>Total intl charge</th>\n",
       "      <th>Customer service calls</th>\n",
       "      <th>Churn</th>\n",
       "    </tr>\n",
       "  </thead>\n",
       "  <tbody>\n",
       "    <tr>\n",
       "      <th>0</th>\n",
       "      <td>KS</td>\n",
       "      <td>128</td>\n",
       "      <td>415</td>\n",
       "      <td>False</td>\n",
       "      <td>True</td>\n",
       "      <td>25</td>\n",
       "      <td>265.1</td>\n",
       "      <td>110</td>\n",
       "      <td>45.07</td>\n",
       "      <td>197.4</td>\n",
       "      <td>99</td>\n",
       "      <td>16.78</td>\n",
       "      <td>244.7</td>\n",
       "      <td>91</td>\n",
       "      <td>11.01</td>\n",
       "      <td>10.0</td>\n",
       "      <td>3</td>\n",
       "      <td>2.70</td>\n",
       "      <td>1</td>\n",
       "      <td>0</td>\n",
       "    </tr>\n",
       "    <tr>\n",
       "      <th>1</th>\n",
       "      <td>OH</td>\n",
       "      <td>107</td>\n",
       "      <td>415</td>\n",
       "      <td>False</td>\n",
       "      <td>True</td>\n",
       "      <td>26</td>\n",
       "      <td>161.6</td>\n",
       "      <td>123</td>\n",
       "      <td>27.47</td>\n",
       "      <td>195.5</td>\n",
       "      <td>103</td>\n",
       "      <td>16.62</td>\n",
       "      <td>254.4</td>\n",
       "      <td>103</td>\n",
       "      <td>11.45</td>\n",
       "      <td>13.7</td>\n",
       "      <td>3</td>\n",
       "      <td>3.70</td>\n",
       "      <td>1</td>\n",
       "      <td>0</td>\n",
       "    </tr>\n",
       "    <tr>\n",
       "      <th>2</th>\n",
       "      <td>NJ</td>\n",
       "      <td>137</td>\n",
       "      <td>415</td>\n",
       "      <td>False</td>\n",
       "      <td>False</td>\n",
       "      <td>0</td>\n",
       "      <td>243.4</td>\n",
       "      <td>114</td>\n",
       "      <td>41.38</td>\n",
       "      <td>121.2</td>\n",
       "      <td>110</td>\n",
       "      <td>10.30</td>\n",
       "      <td>162.6</td>\n",
       "      <td>104</td>\n",
       "      <td>7.32</td>\n",
       "      <td>12.2</td>\n",
       "      <td>5</td>\n",
       "      <td>3.29</td>\n",
       "      <td>0</td>\n",
       "      <td>0</td>\n",
       "    </tr>\n",
       "    <tr>\n",
       "      <th>3</th>\n",
       "      <td>OH</td>\n",
       "      <td>84</td>\n",
       "      <td>408</td>\n",
       "      <td>True</td>\n",
       "      <td>False</td>\n",
       "      <td>0</td>\n",
       "      <td>299.4</td>\n",
       "      <td>71</td>\n",
       "      <td>50.90</td>\n",
       "      <td>61.9</td>\n",
       "      <td>88</td>\n",
       "      <td>5.26</td>\n",
       "      <td>196.9</td>\n",
       "      <td>89</td>\n",
       "      <td>8.86</td>\n",
       "      <td>6.6</td>\n",
       "      <td>7</td>\n",
       "      <td>1.78</td>\n",
       "      <td>2</td>\n",
       "      <td>0</td>\n",
       "    </tr>\n",
       "    <tr>\n",
       "      <th>4</th>\n",
       "      <td>OK</td>\n",
       "      <td>75</td>\n",
       "      <td>415</td>\n",
       "      <td>True</td>\n",
       "      <td>False</td>\n",
       "      <td>0</td>\n",
       "      <td>166.7</td>\n",
       "      <td>113</td>\n",
       "      <td>28.34</td>\n",
       "      <td>148.3</td>\n",
       "      <td>122</td>\n",
       "      <td>12.61</td>\n",
       "      <td>186.9</td>\n",
       "      <td>121</td>\n",
       "      <td>8.41</td>\n",
       "      <td>10.1</td>\n",
       "      <td>3</td>\n",
       "      <td>2.73</td>\n",
       "      <td>3</td>\n",
       "      <td>0</td>\n",
       "    </tr>\n",
       "  </tbody>\n",
       "</table>\n",
       "</div>"
      ],
      "text/plain": [
       "  State  Account length  Area code  International plan  Voice mail plan  \\\n",
       "0    KS             128        415               False             True   \n",
       "1    OH             107        415               False             True   \n",
       "2    NJ             137        415               False            False   \n",
       "3    OH              84        408                True            False   \n",
       "4    OK              75        415                True            False   \n",
       "\n",
       "   Number vmail messages  Total day minutes  Total day calls  \\\n",
       "0                     25              265.1              110   \n",
       "1                     26              161.6              123   \n",
       "2                      0              243.4              114   \n",
       "3                      0              299.4               71   \n",
       "4                      0              166.7              113   \n",
       "\n",
       "   Total day charge  Total eve minutes  Total eve calls  Total eve charge  \\\n",
       "0             45.07              197.4               99             16.78   \n",
       "1             27.47              195.5              103             16.62   \n",
       "2             41.38              121.2              110             10.30   \n",
       "3             50.90               61.9               88              5.26   \n",
       "4             28.34              148.3              122             12.61   \n",
       "\n",
       "   Total night minutes  Total night calls  Total night charge  \\\n",
       "0                244.7                 91               11.01   \n",
       "1                254.4                103               11.45   \n",
       "2                162.6                104                7.32   \n",
       "3                196.9                 89                8.86   \n",
       "4                186.9                121                8.41   \n",
       "\n",
       "   Total intl minutes  Total intl calls  Total intl charge  \\\n",
       "0                10.0                 3               2.70   \n",
       "1                13.7                 3               3.70   \n",
       "2                12.2                 5               3.29   \n",
       "3                 6.6                 7               1.78   \n",
       "4                10.1                 3               2.73   \n",
       "\n",
       "   Customer service calls  Churn  \n",
       "0                       1      0  \n",
       "1                       1      0  \n",
       "2                       0      0  \n",
       "3                       2      0  \n",
       "4                       3      0  "
      ]
     },
     "execution_count": 23,
     "metadata": {},
     "output_type": "execute_result"
    }
   ],
   "source": [
    "df = df.replace({'Voice mail plan': d})\n",
    "df.head()"
   ]
  },
  {
   "cell_type": "markdown",
   "metadata": {
    "lang": "uk",
    "slideshow": {
     "slide_type": "slide"
    }
   },
   "source": [
    "### Групування даних\n",
    "\n",
    "У загальному випадку групування даних в Pandas виглядає наступним чином:\n",
    "\n",
    "```\n",
    "df.groupby(by=grouping_columns)[columns_to_show].function()\n",
    "```\n",
    "\n",
    "1. До датафрейму застосовується метод **`groupby`**, який розділяє дані по `grouping_columns` – ознаці або набору ознак.\n",
    "2. Індексуємо за потрібними нам стовпцями (`columns_to_show`).\n",
    "3. До отриманих груп застосовується функція або декілька функцій."
   ]
  },
  {
   "cell_type": "markdown",
   "metadata": {
    "lang": "uk",
    "slideshow": {
     "slide_type": "subslide"
    }
   },
   "source": [
    "**Групування даних в залежності від значення ознаки `Churn` і вивід статистик за трьома стовпцями в кожній групі.**"
   ]
  },
  {
   "cell_type": "code",
   "execution_count": 24,
   "metadata": {
    "slideshow": {
     "slide_type": "-"
    }
   },
   "outputs": [
    {
     "data": {
      "text/html": [
       "<div>\n",
       "<style scoped>\n",
       "    .dataframe tbody tr th:only-of-type {\n",
       "        vertical-align: middle;\n",
       "    }\n",
       "\n",
       "    .dataframe tbody tr th {\n",
       "        vertical-align: top;\n",
       "    }\n",
       "\n",
       "    .dataframe thead tr th {\n",
       "        text-align: left;\n",
       "    }\n",
       "\n",
       "    .dataframe thead tr:last-of-type th {\n",
       "        text-align: right;\n",
       "    }\n",
       "</style>\n",
       "<table border=\"1\" class=\"dataframe\">\n",
       "  <thead>\n",
       "    <tr>\n",
       "      <th></th>\n",
       "      <th colspan=\"6\" halign=\"left\">Total day minutes</th>\n",
       "      <th colspan=\"6\" halign=\"left\">Total eve minutes</th>\n",
       "      <th colspan=\"6\" halign=\"left\">Total night minutes</th>\n",
       "    </tr>\n",
       "    <tr>\n",
       "      <th></th>\n",
       "      <th>count</th>\n",
       "      <th>mean</th>\n",
       "      <th>std</th>\n",
       "      <th>min</th>\n",
       "      <th>50%</th>\n",
       "      <th>max</th>\n",
       "      <th>count</th>\n",
       "      <th>mean</th>\n",
       "      <th>std</th>\n",
       "      <th>min</th>\n",
       "      <th>50%</th>\n",
       "      <th>max</th>\n",
       "      <th>count</th>\n",
       "      <th>mean</th>\n",
       "      <th>std</th>\n",
       "      <th>min</th>\n",
       "      <th>50%</th>\n",
       "      <th>max</th>\n",
       "    </tr>\n",
       "    <tr>\n",
       "      <th>Churn</th>\n",
       "      <th></th>\n",
       "      <th></th>\n",
       "      <th></th>\n",
       "      <th></th>\n",
       "      <th></th>\n",
       "      <th></th>\n",
       "      <th></th>\n",
       "      <th></th>\n",
       "      <th></th>\n",
       "      <th></th>\n",
       "      <th></th>\n",
       "      <th></th>\n",
       "      <th></th>\n",
       "      <th></th>\n",
       "      <th></th>\n",
       "      <th></th>\n",
       "      <th></th>\n",
       "      <th></th>\n",
       "    </tr>\n",
       "  </thead>\n",
       "  <tbody>\n",
       "    <tr>\n",
       "      <th>0</th>\n",
       "      <td>2850.0</td>\n",
       "      <td>175.18</td>\n",
       "      <td>50.18</td>\n",
       "      <td>0.0</td>\n",
       "      <td>177.2</td>\n",
       "      <td>315.6</td>\n",
       "      <td>2850.0</td>\n",
       "      <td>199.04</td>\n",
       "      <td>50.29</td>\n",
       "      <td>0.0</td>\n",
       "      <td>199.6</td>\n",
       "      <td>361.8</td>\n",
       "      <td>2850.0</td>\n",
       "      <td>200.13</td>\n",
       "      <td>51.11</td>\n",
       "      <td>23.2</td>\n",
       "      <td>200.25</td>\n",
       "      <td>395.0</td>\n",
       "    </tr>\n",
       "    <tr>\n",
       "      <th>1</th>\n",
       "      <td>483.0</td>\n",
       "      <td>206.91</td>\n",
       "      <td>69.00</td>\n",
       "      <td>0.0</td>\n",
       "      <td>217.6</td>\n",
       "      <td>350.8</td>\n",
       "      <td>483.0</td>\n",
       "      <td>212.41</td>\n",
       "      <td>51.73</td>\n",
       "      <td>70.9</td>\n",
       "      <td>211.3</td>\n",
       "      <td>363.7</td>\n",
       "      <td>483.0</td>\n",
       "      <td>205.23</td>\n",
       "      <td>47.13</td>\n",
       "      <td>47.4</td>\n",
       "      <td>204.80</td>\n",
       "      <td>354.9</td>\n",
       "    </tr>\n",
       "  </tbody>\n",
       "</table>\n",
       "</div>"
      ],
      "text/plain": [
       "      Total day minutes                                   Total eve minutes  \\\n",
       "                  count    mean    std  min    50%    max             count   \n",
       "Churn                                                                         \n",
       "0                2850.0  175.18  50.18  0.0  177.2  315.6            2850.0   \n",
       "1                 483.0  206.91  69.00  0.0  217.6  350.8             483.0   \n",
       "\n",
       "                                         Total night minutes                 \\\n",
       "         mean    std   min    50%    max               count    mean    std   \n",
       "Churn                                                                         \n",
       "0      199.04  50.29   0.0  199.6  361.8              2850.0  200.13  51.11   \n",
       "1      212.41  51.73  70.9  211.3  363.7               483.0  205.23  47.13   \n",
       "\n",
       "                            \n",
       "        min     50%    max  \n",
       "Churn                       \n",
       "0      23.2  200.25  395.0  \n",
       "1      47.4  204.80  354.9  "
      ]
     },
     "execution_count": 24,
     "metadata": {},
     "output_type": "execute_result"
    }
   ],
   "source": [
    "columns_to_show = ['Total day minutes', 'Total eve minutes', 'Total night minutes']\n",
    "\n",
    "df.groupby(['Churn'])[columns_to_show].describe(percentiles=[])"
   ]
  },
  {
   "cell_type": "markdown",
   "metadata": {
    "lang": "uk",
    "slideshow": {
     "slide_type": "fragment"
    }
   },
   "source": [
    "Зробимо те ж саме, але трохи по-іншому, передавши в `agg` список функцій:"
   ]
  },
  {
   "cell_type": "code",
   "execution_count": 25,
   "metadata": {
    "slideshow": {
     "slide_type": "-"
    }
   },
   "outputs": [
    {
     "data": {
      "text/html": [
       "<div>\n",
       "<style scoped>\n",
       "    .dataframe tbody tr th:only-of-type {\n",
       "        vertical-align: middle;\n",
       "    }\n",
       "\n",
       "    .dataframe tbody tr th {\n",
       "        vertical-align: top;\n",
       "    }\n",
       "\n",
       "    .dataframe thead tr th {\n",
       "        text-align: left;\n",
       "    }\n",
       "\n",
       "    .dataframe thead tr:last-of-type th {\n",
       "        text-align: right;\n",
       "    }\n",
       "</style>\n",
       "<table border=\"1\" class=\"dataframe\">\n",
       "  <thead>\n",
       "    <tr>\n",
       "      <th></th>\n",
       "      <th colspan=\"4\" halign=\"left\">Total day minutes</th>\n",
       "      <th colspan=\"4\" halign=\"left\">Total eve minutes</th>\n",
       "      <th colspan=\"4\" halign=\"left\">Total night minutes</th>\n",
       "    </tr>\n",
       "    <tr>\n",
       "      <th></th>\n",
       "      <th>mean</th>\n",
       "      <th>std</th>\n",
       "      <th>amin</th>\n",
       "      <th>amax</th>\n",
       "      <th>mean</th>\n",
       "      <th>std</th>\n",
       "      <th>amin</th>\n",
       "      <th>amax</th>\n",
       "      <th>mean</th>\n",
       "      <th>std</th>\n",
       "      <th>amin</th>\n",
       "      <th>amax</th>\n",
       "    </tr>\n",
       "    <tr>\n",
       "      <th>Churn</th>\n",
       "      <th></th>\n",
       "      <th></th>\n",
       "      <th></th>\n",
       "      <th></th>\n",
       "      <th></th>\n",
       "      <th></th>\n",
       "      <th></th>\n",
       "      <th></th>\n",
       "      <th></th>\n",
       "      <th></th>\n",
       "      <th></th>\n",
       "      <th></th>\n",
       "    </tr>\n",
       "  </thead>\n",
       "  <tbody>\n",
       "    <tr>\n",
       "      <th>0</th>\n",
       "      <td>175.18</td>\n",
       "      <td>50.18</td>\n",
       "      <td>0.0</td>\n",
       "      <td>315.6</td>\n",
       "      <td>199.04</td>\n",
       "      <td>50.29</td>\n",
       "      <td>0.0</td>\n",
       "      <td>361.8</td>\n",
       "      <td>200.13</td>\n",
       "      <td>51.11</td>\n",
       "      <td>23.2</td>\n",
       "      <td>395.0</td>\n",
       "    </tr>\n",
       "    <tr>\n",
       "      <th>1</th>\n",
       "      <td>206.91</td>\n",
       "      <td>69.00</td>\n",
       "      <td>0.0</td>\n",
       "      <td>350.8</td>\n",
       "      <td>212.41</td>\n",
       "      <td>51.73</td>\n",
       "      <td>70.9</td>\n",
       "      <td>363.7</td>\n",
       "      <td>205.23</td>\n",
       "      <td>47.13</td>\n",
       "      <td>47.4</td>\n",
       "      <td>354.9</td>\n",
       "    </tr>\n",
       "  </tbody>\n",
       "</table>\n",
       "</div>"
      ],
      "text/plain": [
       "      Total day minutes                    Total eve minutes               \\\n",
       "                   mean    std amin   amax              mean    std  amin   \n",
       "Churn                                                                       \n",
       "0                175.18  50.18  0.0  315.6            199.04  50.29   0.0   \n",
       "1                206.91  69.00  0.0  350.8            212.41  51.73  70.9   \n",
       "\n",
       "             Total night minutes                      \n",
       "        amax                mean    std  amin   amax  \n",
       "Churn                                                 \n",
       "0      361.8              200.13  51.11  23.2  395.0  \n",
       "1      363.7              205.23  47.13  47.4  354.9  "
      ]
     },
     "execution_count": 25,
     "metadata": {},
     "output_type": "execute_result"
    }
   ],
   "source": [
    "columns_to_show = ['Total day minutes', 'Total eve minutes', 'Total night minutes']\n",
    "\n",
    "df.groupby(['Churn'])[columns_to_show].agg([np.mean, np.std, np.min, np.max])"
   ]
  },
  {
   "cell_type": "markdown",
   "metadata": {
    "lang": "uk",
    "slideshow": {
     "slide_type": "slide"
    }
   },
   "source": [
    "### Зведені таблиці"
   ]
  },
  {
   "cell_type": "markdown",
   "metadata": {
    "lang": "uk",
    "slideshow": {
     "slide_type": "subslide"
    }
   },
   "source": [
    "Припустимо, ми хочемо подивитися, як спостереження в нашій вибірці розподілені в контексті двох ознак — `Churn` і `International plan`. Для цього ми можемо побудувати **таблицю спряженості** (засіб представлення спільного розподілу двох змінних, призначений для дослідження зв'язку між ними), скориставшись методом **`crosstab`**:"
   ]
  },
  {
   "cell_type": "code",
   "execution_count": 26,
   "metadata": {
    "slideshow": {
     "slide_type": "-"
    }
   },
   "outputs": [
    {
     "data": {
      "text/html": [
       "<div>\n",
       "<style scoped>\n",
       "    .dataframe tbody tr th:only-of-type {\n",
       "        vertical-align: middle;\n",
       "    }\n",
       "\n",
       "    .dataframe tbody tr th {\n",
       "        vertical-align: top;\n",
       "    }\n",
       "\n",
       "    .dataframe thead th {\n",
       "        text-align: right;\n",
       "    }\n",
       "</style>\n",
       "<table border=\"1\" class=\"dataframe\">\n",
       "  <thead>\n",
       "    <tr style=\"text-align: right;\">\n",
       "      <th>International plan</th>\n",
       "      <th>False</th>\n",
       "      <th>True</th>\n",
       "    </tr>\n",
       "    <tr>\n",
       "      <th>Churn</th>\n",
       "      <th></th>\n",
       "      <th></th>\n",
       "    </tr>\n",
       "  </thead>\n",
       "  <tbody>\n",
       "    <tr>\n",
       "      <th>0</th>\n",
       "      <td>2664</td>\n",
       "      <td>186</td>\n",
       "    </tr>\n",
       "    <tr>\n",
       "      <th>1</th>\n",
       "      <td>346</td>\n",
       "      <td>137</td>\n",
       "    </tr>\n",
       "  </tbody>\n",
       "</table>\n",
       "</div>"
      ],
      "text/plain": [
       "International plan  False  True \n",
       "Churn                           \n",
       "0                    2664    186\n",
       "1                     346    137"
      ]
     },
     "execution_count": 26,
     "metadata": {},
     "output_type": "execute_result"
    }
   ],
   "source": [
    "pd.crosstab(df['Churn'], df['International plan'])"
   ]
  },
  {
   "cell_type": "code",
   "execution_count": 27,
   "metadata": {
    "scrolled": true,
    "slideshow": {
     "slide_type": "-"
    }
   },
   "outputs": [
    {
     "data": {
      "text/html": [
       "<div>\n",
       "<style scoped>\n",
       "    .dataframe tbody tr th:only-of-type {\n",
       "        vertical-align: middle;\n",
       "    }\n",
       "\n",
       "    .dataframe tbody tr th {\n",
       "        vertical-align: top;\n",
       "    }\n",
       "\n",
       "    .dataframe thead th {\n",
       "        text-align: right;\n",
       "    }\n",
       "</style>\n",
       "<table border=\"1\" class=\"dataframe\">\n",
       "  <thead>\n",
       "    <tr style=\"text-align: right;\">\n",
       "      <th>Voice mail plan</th>\n",
       "      <th>False</th>\n",
       "      <th>True</th>\n",
       "    </tr>\n",
       "    <tr>\n",
       "      <th>Churn</th>\n",
       "      <th></th>\n",
       "      <th></th>\n",
       "    </tr>\n",
       "  </thead>\n",
       "  <tbody>\n",
       "    <tr>\n",
       "      <th>0</th>\n",
       "      <td>0.60</td>\n",
       "      <td>0.25</td>\n",
       "    </tr>\n",
       "    <tr>\n",
       "      <th>1</th>\n",
       "      <td>0.12</td>\n",
       "      <td>0.02</td>\n",
       "    </tr>\n",
       "  </tbody>\n",
       "</table>\n",
       "</div>"
      ],
      "text/plain": [
       "Voice mail plan  False  True \n",
       "Churn                        \n",
       "0                 0.60   0.25\n",
       "1                 0.12   0.02"
      ]
     },
     "execution_count": 27,
     "metadata": {},
     "output_type": "execute_result"
    }
   ],
   "source": [
    "pd.crosstab(df['Churn'], df['Voice mail plan'], normalize=True)"
   ]
  },
  {
   "cell_type": "markdown",
   "metadata": {
    "lang": "uk",
    "slideshow": {
     "slide_type": "-"
    }
   },
   "source": [
    "Бачимо, що більшість користувачів — лояльні і не користуються додатковими послугами (міжнародного роумінгу / голосової пошти)."
   ]
  },
  {
   "cell_type": "markdown",
   "metadata": {
    "lang": "uk",
    "slideshow": {
     "slide_type": "subslide"
    }
   },
   "source": [
    "Просунуті користувачі `Excel` напевно згадають про таку річ, як **зведені таблиці** (`pivot tables`). В `Pandas` за зведені таблиці відповідає метод **`pivot_table`**, який приймає в якості параметрів:\n",
    "\n",
    "* `values` – список змінних, за якими потрібно розрахувати потрібні статистики,\n",
    "* `index` – список змінних, за якими потрібно згрупувати дані,\n",
    "* `aggfunc` – те, що нам, власне, потрібно порахувати по групах – суму, середнє, максимум, мінімум або щось ще.\n",
    "\n",
    "Давайте подивимося середню кількість денних, вечірніх і нічних дзвінків для різних `Area code`:"
   ]
  },
  {
   "cell_type": "code",
   "execution_count": 28,
   "metadata": {
    "scrolled": false,
    "slideshow": {
     "slide_type": "fragment"
    }
   },
   "outputs": [
    {
     "data": {
      "text/html": [
       "<div>\n",
       "<style scoped>\n",
       "    .dataframe tbody tr th:only-of-type {\n",
       "        vertical-align: middle;\n",
       "    }\n",
       "\n",
       "    .dataframe tbody tr th {\n",
       "        vertical-align: top;\n",
       "    }\n",
       "\n",
       "    .dataframe thead th {\n",
       "        text-align: right;\n",
       "    }\n",
       "</style>\n",
       "<table border=\"1\" class=\"dataframe\">\n",
       "  <thead>\n",
       "    <tr style=\"text-align: right;\">\n",
       "      <th></th>\n",
       "      <th>Total day calls</th>\n",
       "      <th>Total eve calls</th>\n",
       "      <th>Total night calls</th>\n",
       "    </tr>\n",
       "    <tr>\n",
       "      <th>Area code</th>\n",
       "      <th></th>\n",
       "      <th></th>\n",
       "      <th></th>\n",
       "    </tr>\n",
       "  </thead>\n",
       "  <tbody>\n",
       "    <tr>\n",
       "      <th>408</th>\n",
       "      <td>100.50</td>\n",
       "      <td>99.79</td>\n",
       "      <td>99.04</td>\n",
       "    </tr>\n",
       "    <tr>\n",
       "      <th>415</th>\n",
       "      <td>100.58</td>\n",
       "      <td>100.50</td>\n",
       "      <td>100.40</td>\n",
       "    </tr>\n",
       "    <tr>\n",
       "      <th>510</th>\n",
       "      <td>100.10</td>\n",
       "      <td>99.67</td>\n",
       "      <td>100.60</td>\n",
       "    </tr>\n",
       "  </tbody>\n",
       "</table>\n",
       "</div>"
      ],
      "text/plain": [
       "           Total day calls  Total eve calls  Total night calls\n",
       "Area code                                                     \n",
       "408                 100.50            99.79              99.04\n",
       "415                 100.58           100.50             100.40\n",
       "510                 100.10            99.67             100.60"
      ]
     },
     "execution_count": 28,
     "metadata": {},
     "output_type": "execute_result"
    }
   ],
   "source": [
    "df.pivot_table(['Total day calls', \n",
    "                'Total eve calls', \n",
    "                'Total night calls'], ['Area code'], \n",
    "               aggfunc='mean').head(10)"
   ]
  },
  {
   "cell_type": "markdown",
   "metadata": {
    "lang": "uk",
    "slideshow": {
     "slide_type": "slide"
    }
   },
   "source": [
    "### Перетворення датафреймів\n",
    "\n",
    "Як і багато інших речей, додавати стовпці в `DataFrame` можна декількома способами."
   ]
  },
  {
   "cell_type": "markdown",
   "metadata": {
    "lang": "uk",
    "slideshow": {
     "slide_type": "fragment"
    }
   },
   "source": [
    "Наприклад, ми хочемо порахувати загальну кількість дзвінків для всіх користувачів. Створимо об'єкт `total_calls` типу `Series` і вставимо його в датафрейм:"
   ]
  },
  {
   "cell_type": "code",
   "execution_count": 29,
   "metadata": {
    "slideshow": {
     "slide_type": "-"
    }
   },
   "outputs": [
    {
     "data": {
      "text/html": [
       "<div>\n",
       "<style scoped>\n",
       "    .dataframe tbody tr th:only-of-type {\n",
       "        vertical-align: middle;\n",
       "    }\n",
       "\n",
       "    .dataframe tbody tr th {\n",
       "        vertical-align: top;\n",
       "    }\n",
       "\n",
       "    .dataframe thead th {\n",
       "        text-align: right;\n",
       "    }\n",
       "</style>\n",
       "<table border=\"1\" class=\"dataframe\">\n",
       "  <thead>\n",
       "    <tr style=\"text-align: right;\">\n",
       "      <th></th>\n",
       "      <th>State</th>\n",
       "      <th>Account length</th>\n",
       "      <th>Area code</th>\n",
       "      <th>International plan</th>\n",
       "      <th>Voice mail plan</th>\n",
       "      <th>Number vmail messages</th>\n",
       "      <th>Total day minutes</th>\n",
       "      <th>Total day calls</th>\n",
       "      <th>Total day charge</th>\n",
       "      <th>Total eve minutes</th>\n",
       "      <th>...</th>\n",
       "      <th>Total eve charge</th>\n",
       "      <th>Total night minutes</th>\n",
       "      <th>Total night calls</th>\n",
       "      <th>Total night charge</th>\n",
       "      <th>Total intl minutes</th>\n",
       "      <th>Total intl calls</th>\n",
       "      <th>Total intl charge</th>\n",
       "      <th>Customer service calls</th>\n",
       "      <th>Churn</th>\n",
       "      <th>Total calls</th>\n",
       "    </tr>\n",
       "  </thead>\n",
       "  <tbody>\n",
       "    <tr>\n",
       "      <th>0</th>\n",
       "      <td>KS</td>\n",
       "      <td>128</td>\n",
       "      <td>415</td>\n",
       "      <td>False</td>\n",
       "      <td>True</td>\n",
       "      <td>25</td>\n",
       "      <td>265.1</td>\n",
       "      <td>110</td>\n",
       "      <td>45.07</td>\n",
       "      <td>197.4</td>\n",
       "      <td>...</td>\n",
       "      <td>16.78</td>\n",
       "      <td>244.7</td>\n",
       "      <td>91</td>\n",
       "      <td>11.01</td>\n",
       "      <td>10.0</td>\n",
       "      <td>3</td>\n",
       "      <td>2.70</td>\n",
       "      <td>1</td>\n",
       "      <td>0</td>\n",
       "      <td>303</td>\n",
       "    </tr>\n",
       "    <tr>\n",
       "      <th>1</th>\n",
       "      <td>OH</td>\n",
       "      <td>107</td>\n",
       "      <td>415</td>\n",
       "      <td>False</td>\n",
       "      <td>True</td>\n",
       "      <td>26</td>\n",
       "      <td>161.6</td>\n",
       "      <td>123</td>\n",
       "      <td>27.47</td>\n",
       "      <td>195.5</td>\n",
       "      <td>...</td>\n",
       "      <td>16.62</td>\n",
       "      <td>254.4</td>\n",
       "      <td>103</td>\n",
       "      <td>11.45</td>\n",
       "      <td>13.7</td>\n",
       "      <td>3</td>\n",
       "      <td>3.70</td>\n",
       "      <td>1</td>\n",
       "      <td>0</td>\n",
       "      <td>332</td>\n",
       "    </tr>\n",
       "    <tr>\n",
       "      <th>2</th>\n",
       "      <td>NJ</td>\n",
       "      <td>137</td>\n",
       "      <td>415</td>\n",
       "      <td>False</td>\n",
       "      <td>False</td>\n",
       "      <td>0</td>\n",
       "      <td>243.4</td>\n",
       "      <td>114</td>\n",
       "      <td>41.38</td>\n",
       "      <td>121.2</td>\n",
       "      <td>...</td>\n",
       "      <td>10.30</td>\n",
       "      <td>162.6</td>\n",
       "      <td>104</td>\n",
       "      <td>7.32</td>\n",
       "      <td>12.2</td>\n",
       "      <td>5</td>\n",
       "      <td>3.29</td>\n",
       "      <td>0</td>\n",
       "      <td>0</td>\n",
       "      <td>333</td>\n",
       "    </tr>\n",
       "    <tr>\n",
       "      <th>3</th>\n",
       "      <td>OH</td>\n",
       "      <td>84</td>\n",
       "      <td>408</td>\n",
       "      <td>True</td>\n",
       "      <td>False</td>\n",
       "      <td>0</td>\n",
       "      <td>299.4</td>\n",
       "      <td>71</td>\n",
       "      <td>50.90</td>\n",
       "      <td>61.9</td>\n",
       "      <td>...</td>\n",
       "      <td>5.26</td>\n",
       "      <td>196.9</td>\n",
       "      <td>89</td>\n",
       "      <td>8.86</td>\n",
       "      <td>6.6</td>\n",
       "      <td>7</td>\n",
       "      <td>1.78</td>\n",
       "      <td>2</td>\n",
       "      <td>0</td>\n",
       "      <td>255</td>\n",
       "    </tr>\n",
       "    <tr>\n",
       "      <th>4</th>\n",
       "      <td>OK</td>\n",
       "      <td>75</td>\n",
       "      <td>415</td>\n",
       "      <td>True</td>\n",
       "      <td>False</td>\n",
       "      <td>0</td>\n",
       "      <td>166.7</td>\n",
       "      <td>113</td>\n",
       "      <td>28.34</td>\n",
       "      <td>148.3</td>\n",
       "      <td>...</td>\n",
       "      <td>12.61</td>\n",
       "      <td>186.9</td>\n",
       "      <td>121</td>\n",
       "      <td>8.41</td>\n",
       "      <td>10.1</td>\n",
       "      <td>3</td>\n",
       "      <td>2.73</td>\n",
       "      <td>3</td>\n",
       "      <td>0</td>\n",
       "      <td>359</td>\n",
       "    </tr>\n",
       "  </tbody>\n",
       "</table>\n",
       "<p>5 rows × 21 columns</p>\n",
       "</div>"
      ],
      "text/plain": [
       "  State  Account length  Area code  International plan  Voice mail plan  \\\n",
       "0    KS             128        415               False             True   \n",
       "1    OH             107        415               False             True   \n",
       "2    NJ             137        415               False            False   \n",
       "3    OH              84        408                True            False   \n",
       "4    OK              75        415                True            False   \n",
       "\n",
       "   Number vmail messages  Total day minutes  Total day calls  \\\n",
       "0                     25              265.1              110   \n",
       "1                     26              161.6              123   \n",
       "2                      0              243.4              114   \n",
       "3                      0              299.4               71   \n",
       "4                      0              166.7              113   \n",
       "\n",
       "   Total day charge  Total eve minutes  ...  Total eve charge  \\\n",
       "0             45.07              197.4  ...             16.78   \n",
       "1             27.47              195.5  ...             16.62   \n",
       "2             41.38              121.2  ...             10.30   \n",
       "3             50.90               61.9  ...              5.26   \n",
       "4             28.34              148.3  ...             12.61   \n",
       "\n",
       "   Total night minutes  Total night calls  Total night charge  \\\n",
       "0                244.7                 91               11.01   \n",
       "1                254.4                103               11.45   \n",
       "2                162.6                104                7.32   \n",
       "3                196.9                 89                8.86   \n",
       "4                186.9                121                8.41   \n",
       "\n",
       "   Total intl minutes  Total intl calls  Total intl charge  \\\n",
       "0                10.0                 3               2.70   \n",
       "1                13.7                 3               3.70   \n",
       "2                12.2                 5               3.29   \n",
       "3                 6.6                 7               1.78   \n",
       "4                10.1                 3               2.73   \n",
       "\n",
       "   Customer service calls  Churn  Total calls  \n",
       "0                       1      0          303  \n",
       "1                       1      0          332  \n",
       "2                       0      0          333  \n",
       "3                       2      0          255  \n",
       "4                       3      0          359  \n",
       "\n",
       "[5 rows x 21 columns]"
      ]
     },
     "execution_count": 29,
     "metadata": {},
     "output_type": "execute_result"
    }
   ],
   "source": [
    "total_calls = df['Total day calls'] + df['Total eve calls'] + \\\n",
    "              df['Total night calls'] + df['Total intl calls']\n",
    "df.insert(loc=len(df.columns), column='Total calls', value=total_calls) \n",
    "# loc - номер стовпця, після якого потрібно вставити даний Series\n",
    "# вказуємо len(df.columns), щоб вставити його в кінець\n",
    "df.head()"
   ]
  },
  {
   "cell_type": "markdown",
   "metadata": {
    "lang": "uk",
    "slideshow": {
     "slide_type": "subslide"
    }
   },
   "source": [
    "Додати стовпець з наявних можна і простіше, не створюючи проміжних `Series`:"
   ]
  },
  {
   "cell_type": "code",
   "execution_count": 30,
   "metadata": {
    "slideshow": {
     "slide_type": "-"
    }
   },
   "outputs": [
    {
     "data": {
      "text/html": [
       "<div>\n",
       "<style scoped>\n",
       "    .dataframe tbody tr th:only-of-type {\n",
       "        vertical-align: middle;\n",
       "    }\n",
       "\n",
       "    .dataframe tbody tr th {\n",
       "        vertical-align: top;\n",
       "    }\n",
       "\n",
       "    .dataframe thead th {\n",
       "        text-align: right;\n",
       "    }\n",
       "</style>\n",
       "<table border=\"1\" class=\"dataframe\">\n",
       "  <thead>\n",
       "    <tr style=\"text-align: right;\">\n",
       "      <th></th>\n",
       "      <th>State</th>\n",
       "      <th>Account length</th>\n",
       "      <th>Area code</th>\n",
       "      <th>International plan</th>\n",
       "      <th>Voice mail plan</th>\n",
       "      <th>Number vmail messages</th>\n",
       "      <th>Total day minutes</th>\n",
       "      <th>Total day calls</th>\n",
       "      <th>Total day charge</th>\n",
       "      <th>Total eve minutes</th>\n",
       "      <th>...</th>\n",
       "      <th>Total night minutes</th>\n",
       "      <th>Total night calls</th>\n",
       "      <th>Total night charge</th>\n",
       "      <th>Total intl minutes</th>\n",
       "      <th>Total intl calls</th>\n",
       "      <th>Total intl charge</th>\n",
       "      <th>Customer service calls</th>\n",
       "      <th>Churn</th>\n",
       "      <th>Total calls</th>\n",
       "      <th>Total charge</th>\n",
       "    </tr>\n",
       "  </thead>\n",
       "  <tbody>\n",
       "    <tr>\n",
       "      <th>0</th>\n",
       "      <td>KS</td>\n",
       "      <td>128</td>\n",
       "      <td>415</td>\n",
       "      <td>False</td>\n",
       "      <td>True</td>\n",
       "      <td>25</td>\n",
       "      <td>265.1</td>\n",
       "      <td>110</td>\n",
       "      <td>45.07</td>\n",
       "      <td>197.4</td>\n",
       "      <td>...</td>\n",
       "      <td>244.7</td>\n",
       "      <td>91</td>\n",
       "      <td>11.01</td>\n",
       "      <td>10.0</td>\n",
       "      <td>3</td>\n",
       "      <td>2.70</td>\n",
       "      <td>1</td>\n",
       "      <td>0</td>\n",
       "      <td>303</td>\n",
       "      <td>75.56</td>\n",
       "    </tr>\n",
       "    <tr>\n",
       "      <th>1</th>\n",
       "      <td>OH</td>\n",
       "      <td>107</td>\n",
       "      <td>415</td>\n",
       "      <td>False</td>\n",
       "      <td>True</td>\n",
       "      <td>26</td>\n",
       "      <td>161.6</td>\n",
       "      <td>123</td>\n",
       "      <td>27.47</td>\n",
       "      <td>195.5</td>\n",
       "      <td>...</td>\n",
       "      <td>254.4</td>\n",
       "      <td>103</td>\n",
       "      <td>11.45</td>\n",
       "      <td>13.7</td>\n",
       "      <td>3</td>\n",
       "      <td>3.70</td>\n",
       "      <td>1</td>\n",
       "      <td>0</td>\n",
       "      <td>332</td>\n",
       "      <td>59.24</td>\n",
       "    </tr>\n",
       "    <tr>\n",
       "      <th>2</th>\n",
       "      <td>NJ</td>\n",
       "      <td>137</td>\n",
       "      <td>415</td>\n",
       "      <td>False</td>\n",
       "      <td>False</td>\n",
       "      <td>0</td>\n",
       "      <td>243.4</td>\n",
       "      <td>114</td>\n",
       "      <td>41.38</td>\n",
       "      <td>121.2</td>\n",
       "      <td>...</td>\n",
       "      <td>162.6</td>\n",
       "      <td>104</td>\n",
       "      <td>7.32</td>\n",
       "      <td>12.2</td>\n",
       "      <td>5</td>\n",
       "      <td>3.29</td>\n",
       "      <td>0</td>\n",
       "      <td>0</td>\n",
       "      <td>333</td>\n",
       "      <td>62.29</td>\n",
       "    </tr>\n",
       "    <tr>\n",
       "      <th>3</th>\n",
       "      <td>OH</td>\n",
       "      <td>84</td>\n",
       "      <td>408</td>\n",
       "      <td>True</td>\n",
       "      <td>False</td>\n",
       "      <td>0</td>\n",
       "      <td>299.4</td>\n",
       "      <td>71</td>\n",
       "      <td>50.90</td>\n",
       "      <td>61.9</td>\n",
       "      <td>...</td>\n",
       "      <td>196.9</td>\n",
       "      <td>89</td>\n",
       "      <td>8.86</td>\n",
       "      <td>6.6</td>\n",
       "      <td>7</td>\n",
       "      <td>1.78</td>\n",
       "      <td>2</td>\n",
       "      <td>0</td>\n",
       "      <td>255</td>\n",
       "      <td>66.80</td>\n",
       "    </tr>\n",
       "    <tr>\n",
       "      <th>4</th>\n",
       "      <td>OK</td>\n",
       "      <td>75</td>\n",
       "      <td>415</td>\n",
       "      <td>True</td>\n",
       "      <td>False</td>\n",
       "      <td>0</td>\n",
       "      <td>166.7</td>\n",
       "      <td>113</td>\n",
       "      <td>28.34</td>\n",
       "      <td>148.3</td>\n",
       "      <td>...</td>\n",
       "      <td>186.9</td>\n",
       "      <td>121</td>\n",
       "      <td>8.41</td>\n",
       "      <td>10.1</td>\n",
       "      <td>3</td>\n",
       "      <td>2.73</td>\n",
       "      <td>3</td>\n",
       "      <td>0</td>\n",
       "      <td>359</td>\n",
       "      <td>52.09</td>\n",
       "    </tr>\n",
       "  </tbody>\n",
       "</table>\n",
       "<p>5 rows × 22 columns</p>\n",
       "</div>"
      ],
      "text/plain": [
       "  State  Account length  Area code  International plan  Voice mail plan  \\\n",
       "0    KS             128        415               False             True   \n",
       "1    OH             107        415               False             True   \n",
       "2    NJ             137        415               False            False   \n",
       "3    OH              84        408                True            False   \n",
       "4    OK              75        415                True            False   \n",
       "\n",
       "   Number vmail messages  Total day minutes  Total day calls  \\\n",
       "0                     25              265.1              110   \n",
       "1                     26              161.6              123   \n",
       "2                      0              243.4              114   \n",
       "3                      0              299.4               71   \n",
       "4                      0              166.7              113   \n",
       "\n",
       "   Total day charge  Total eve minutes  ...  Total night minutes  \\\n",
       "0             45.07              197.4  ...                244.7   \n",
       "1             27.47              195.5  ...                254.4   \n",
       "2             41.38              121.2  ...                162.6   \n",
       "3             50.90               61.9  ...                196.9   \n",
       "4             28.34              148.3  ...                186.9   \n",
       "\n",
       "   Total night calls  Total night charge  Total intl minutes  \\\n",
       "0                 91               11.01                10.0   \n",
       "1                103               11.45                13.7   \n",
       "2                104                7.32                12.2   \n",
       "3                 89                8.86                 6.6   \n",
       "4                121                8.41                10.1   \n",
       "\n",
       "   Total intl calls  Total intl charge  Customer service calls  Churn  \\\n",
       "0                 3               2.70                       1      0   \n",
       "1                 3               3.70                       1      0   \n",
       "2                 5               3.29                       0      0   \n",
       "3                 7               1.78                       2      0   \n",
       "4                 3               2.73                       3      0   \n",
       "\n",
       "   Total calls  Total charge  \n",
       "0          303         75.56  \n",
       "1          332         59.24  \n",
       "2          333         62.29  \n",
       "3          255         66.80  \n",
       "4          359         52.09  \n",
       "\n",
       "[5 rows x 22 columns]"
      ]
     },
     "execution_count": 30,
     "metadata": {},
     "output_type": "execute_result"
    }
   ],
   "source": [
    "df['Total charge'] = df['Total day charge'] + df['Total eve charge'] + \\\n",
    "                     df['Total night charge'] + df['Total intl charge']\n",
    "\n",
    "df.head()"
   ]
  },
  {
   "cell_type": "markdown",
   "metadata": {
    "lang": "uk",
    "slideshow": {
     "slide_type": "subslide"
    }
   },
   "source": [
    "Щоб видалити стовпці або рядки, скористайтеся методом `drop`, передаючи в якості аргументу потрібні індекси і необхідне значення параметра `axis` (`1`, якщо видаляєте стовпці, і нічого або `0`, якщо видаляєте рядки):"
   ]
  },
  {
   "cell_type": "code",
   "execution_count": 31,
   "metadata": {
    "scrolled": false,
    "slideshow": {
     "slide_type": "-"
    }
   },
   "outputs": [
    {
     "data": {
      "text/html": [
       "<div>\n",
       "<style scoped>\n",
       "    .dataframe tbody tr th:only-of-type {\n",
       "        vertical-align: middle;\n",
       "    }\n",
       "\n",
       "    .dataframe tbody tr th {\n",
       "        vertical-align: top;\n",
       "    }\n",
       "\n",
       "    .dataframe thead th {\n",
       "        text-align: right;\n",
       "    }\n",
       "</style>\n",
       "<table border=\"1\" class=\"dataframe\">\n",
       "  <thead>\n",
       "    <tr style=\"text-align: right;\">\n",
       "      <th></th>\n",
       "      <th>State</th>\n",
       "      <th>Account length</th>\n",
       "      <th>Area code</th>\n",
       "      <th>International plan</th>\n",
       "      <th>Voice mail plan</th>\n",
       "      <th>Number vmail messages</th>\n",
       "      <th>Total day minutes</th>\n",
       "      <th>Total day calls</th>\n",
       "      <th>Total day charge</th>\n",
       "      <th>Total eve minutes</th>\n",
       "      <th>Total eve calls</th>\n",
       "      <th>Total eve charge</th>\n",
       "      <th>Total night minutes</th>\n",
       "      <th>Total night calls</th>\n",
       "      <th>Total night charge</th>\n",
       "      <th>Total intl minutes</th>\n",
       "      <th>Total intl calls</th>\n",
       "      <th>Total intl charge</th>\n",
       "      <th>Customer service calls</th>\n",
       "      <th>Churn</th>\n",
       "    </tr>\n",
       "  </thead>\n",
       "  <tbody>\n",
       "    <tr>\n",
       "      <th>0</th>\n",
       "      <td>KS</td>\n",
       "      <td>128</td>\n",
       "      <td>415</td>\n",
       "      <td>False</td>\n",
       "      <td>True</td>\n",
       "      <td>25</td>\n",
       "      <td>265.1</td>\n",
       "      <td>110</td>\n",
       "      <td>45.07</td>\n",
       "      <td>197.4</td>\n",
       "      <td>99</td>\n",
       "      <td>16.78</td>\n",
       "      <td>244.7</td>\n",
       "      <td>91</td>\n",
       "      <td>11.01</td>\n",
       "      <td>10.0</td>\n",
       "      <td>3</td>\n",
       "      <td>2.70</td>\n",
       "      <td>1</td>\n",
       "      <td>0</td>\n",
       "    </tr>\n",
       "    <tr>\n",
       "      <th>3</th>\n",
       "      <td>OH</td>\n",
       "      <td>84</td>\n",
       "      <td>408</td>\n",
       "      <td>True</td>\n",
       "      <td>False</td>\n",
       "      <td>0</td>\n",
       "      <td>299.4</td>\n",
       "      <td>71</td>\n",
       "      <td>50.90</td>\n",
       "      <td>61.9</td>\n",
       "      <td>88</td>\n",
       "      <td>5.26</td>\n",
       "      <td>196.9</td>\n",
       "      <td>89</td>\n",
       "      <td>8.86</td>\n",
       "      <td>6.6</td>\n",
       "      <td>7</td>\n",
       "      <td>1.78</td>\n",
       "      <td>2</td>\n",
       "      <td>0</td>\n",
       "    </tr>\n",
       "    <tr>\n",
       "      <th>4</th>\n",
       "      <td>OK</td>\n",
       "      <td>75</td>\n",
       "      <td>415</td>\n",
       "      <td>True</td>\n",
       "      <td>False</td>\n",
       "      <td>0</td>\n",
       "      <td>166.7</td>\n",
       "      <td>113</td>\n",
       "      <td>28.34</td>\n",
       "      <td>148.3</td>\n",
       "      <td>122</td>\n",
       "      <td>12.61</td>\n",
       "      <td>186.9</td>\n",
       "      <td>121</td>\n",
       "      <td>8.41</td>\n",
       "      <td>10.1</td>\n",
       "      <td>3</td>\n",
       "      <td>2.73</td>\n",
       "      <td>3</td>\n",
       "      <td>0</td>\n",
       "    </tr>\n",
       "    <tr>\n",
       "      <th>5</th>\n",
       "      <td>AL</td>\n",
       "      <td>118</td>\n",
       "      <td>510</td>\n",
       "      <td>True</td>\n",
       "      <td>False</td>\n",
       "      <td>0</td>\n",
       "      <td>223.4</td>\n",
       "      <td>98</td>\n",
       "      <td>37.98</td>\n",
       "      <td>220.6</td>\n",
       "      <td>101</td>\n",
       "      <td>18.75</td>\n",
       "      <td>203.9</td>\n",
       "      <td>118</td>\n",
       "      <td>9.18</td>\n",
       "      <td>6.3</td>\n",
       "      <td>6</td>\n",
       "      <td>1.70</td>\n",
       "      <td>0</td>\n",
       "      <td>0</td>\n",
       "    </tr>\n",
       "    <tr>\n",
       "      <th>6</th>\n",
       "      <td>MA</td>\n",
       "      <td>121</td>\n",
       "      <td>510</td>\n",
       "      <td>False</td>\n",
       "      <td>True</td>\n",
       "      <td>24</td>\n",
       "      <td>218.2</td>\n",
       "      <td>88</td>\n",
       "      <td>37.09</td>\n",
       "      <td>348.5</td>\n",
       "      <td>108</td>\n",
       "      <td>29.62</td>\n",
       "      <td>212.6</td>\n",
       "      <td>118</td>\n",
       "      <td>9.57</td>\n",
       "      <td>7.5</td>\n",
       "      <td>7</td>\n",
       "      <td>2.03</td>\n",
       "      <td>3</td>\n",
       "      <td>0</td>\n",
       "    </tr>\n",
       "  </tbody>\n",
       "</table>\n",
       "</div>"
      ],
      "text/plain": [
       "  State  Account length  Area code  International plan  Voice mail plan  \\\n",
       "0    KS             128        415               False             True   \n",
       "3    OH              84        408                True            False   \n",
       "4    OK              75        415                True            False   \n",
       "5    AL             118        510                True            False   \n",
       "6    MA             121        510               False             True   \n",
       "\n",
       "   Number vmail messages  Total day minutes  Total day calls  \\\n",
       "0                     25              265.1              110   \n",
       "3                      0              299.4               71   \n",
       "4                      0              166.7              113   \n",
       "5                      0              223.4               98   \n",
       "6                     24              218.2               88   \n",
       "\n",
       "   Total day charge  Total eve minutes  Total eve calls  Total eve charge  \\\n",
       "0             45.07              197.4               99             16.78   \n",
       "3             50.90               61.9               88              5.26   \n",
       "4             28.34              148.3              122             12.61   \n",
       "5             37.98              220.6              101             18.75   \n",
       "6             37.09              348.5              108             29.62   \n",
       "\n",
       "   Total night minutes  Total night calls  Total night charge  \\\n",
       "0                244.7                 91               11.01   \n",
       "3                196.9                 89                8.86   \n",
       "4                186.9                121                8.41   \n",
       "5                203.9                118                9.18   \n",
       "6                212.6                118                9.57   \n",
       "\n",
       "   Total intl minutes  Total intl calls  Total intl charge  \\\n",
       "0                10.0                 3               2.70   \n",
       "3                 6.6                 7               1.78   \n",
       "4                10.1                 3               2.73   \n",
       "5                 6.3                 6               1.70   \n",
       "6                 7.5                 7               2.03   \n",
       "\n",
       "   Customer service calls  Churn  \n",
       "0                       1      0  \n",
       "3                       2      0  \n",
       "4                       3      0  \n",
       "5                       0      0  \n",
       "6                       3      0  "
      ]
     },
     "execution_count": 31,
     "metadata": {},
     "output_type": "execute_result"
    }
   ],
   "source": [
    "# позбуваємося створених щойно стовпців\n",
    "df = df.drop(['Total charge', 'Total calls'], axis=1) \n",
    "\n",
    "df.drop([1, 2]).head() # а ось так можна видалити рядки"
   ]
  },
  {
   "cell_type": "markdown",
   "metadata": {
    "lang": "uk",
    "slideshow": {
     "slide_type": "subslide"
    }
   },
   "source": [
    "## 2. Перші спроби прогнозування\n",
    "\n",
    "Подивимося, як відтік пов'язаний з ознакою *\\\"Підключення міжнародного роумінгу\\\"* (`International plan`). Зробимо це за допомогою таблиці спряженості `crosstab`, а також шляхом ілюстрації з `Seaborn` (як саме будувати такі рисунки і аналізувати з їх допомогою графіки – матеріал наступної лекції.)"
   ]
  },
  {
   "cell_type": "code",
   "execution_count": 32,
   "metadata": {
    "slideshow": {
     "slide_type": "subslide"
    }
   },
   "outputs": [],
   "source": [
    "# імпортуємо бібліотеки для побудови графіків\n",
    "import matplotlib.pyplot as plt\n",
    "# !pip install seaborn \n",
    "import seaborn as sns\n",
    "# імпортуємо деякі налаштування візуалізації \n",
    "sns.set()\n",
    "# графіки у форматі Retina виглядають більш чіткими\n",
    "%config InlineBackend.figure_format = 'retina'"
   ]
  },
  {
   "cell_type": "code",
   "execution_count": 33,
   "metadata": {
    "slideshow": {
     "slide_type": "subslide"
    }
   },
   "outputs": [
    {
     "data": {
      "text/html": [
       "<div>\n",
       "<style scoped>\n",
       "    .dataframe tbody tr th:only-of-type {\n",
       "        vertical-align: middle;\n",
       "    }\n",
       "\n",
       "    .dataframe tbody tr th {\n",
       "        vertical-align: top;\n",
       "    }\n",
       "\n",
       "    .dataframe thead th {\n",
       "        text-align: right;\n",
       "    }\n",
       "</style>\n",
       "<table border=\"1\" class=\"dataframe\">\n",
       "  <thead>\n",
       "    <tr style=\"text-align: right;\">\n",
       "      <th>International plan</th>\n",
       "      <th>False</th>\n",
       "      <th>True</th>\n",
       "      <th>All</th>\n",
       "    </tr>\n",
       "    <tr>\n",
       "      <th>Churn</th>\n",
       "      <th></th>\n",
       "      <th></th>\n",
       "      <th></th>\n",
       "    </tr>\n",
       "  </thead>\n",
       "  <tbody>\n",
       "    <tr>\n",
       "      <th>0</th>\n",
       "      <td>2664</td>\n",
       "      <td>186</td>\n",
       "      <td>2850</td>\n",
       "    </tr>\n",
       "    <tr>\n",
       "      <th>1</th>\n",
       "      <td>346</td>\n",
       "      <td>137</td>\n",
       "      <td>483</td>\n",
       "    </tr>\n",
       "    <tr>\n",
       "      <th>All</th>\n",
       "      <td>3010</td>\n",
       "      <td>323</td>\n",
       "      <td>3333</td>\n",
       "    </tr>\n",
       "  </tbody>\n",
       "</table>\n",
       "</div>"
      ],
      "text/plain": [
       "International plan  False  True   All\n",
       "Churn                                \n",
       "0                    2664   186  2850\n",
       "1                     346   137   483\n",
       "All                  3010   323  3333"
      ]
     },
     "execution_count": 33,
     "metadata": {},
     "output_type": "execute_result"
    }
   ],
   "source": [
    "pd.crosstab(df['Churn'], df['International plan'], margins=True)"
   ]
  },
  {
   "cell_type": "code",
   "execution_count": 34,
   "metadata": {
    "slideshow": {
     "slide_type": "-"
    }
   },
   "outputs": [
    {
     "data": {
      "image/png": "[encoded data removed]",
      "text/plain": [
       "<Figure size 432x288 with 1 Axes>"
      ]
     },
     "metadata": {
      "image/png": {
       "height": 266,
       "width": 398
      }
     },
     "output_type": "display_data"
    }
   ],
   "source": [
    "sns.countplot(x='International plan', hue='Churn', data=df);"
   ]
  },
  {
   "cell_type": "markdown",
   "metadata": {
    "lang": "uk",
    "slideshow": {
     "slide_type": "-"
    }
   },
   "source": [
    "Бачимо, що коли роумінг підключений, частка відтоку набагато вища. Можливо, великі і погано контрольовані витрати в роумінгу дуже конфліктогені і призводять до невдоволення клієнтів оператора і, відповідно, до їх відтоку."
   ]
  },
  {
   "cell_type": "markdown",
   "metadata": {
    "lang": "uk",
    "slideshow": {
     "slide_type": "subslide"
    }
   },
   "source": [
    "Далі подивимося на ще одну важливу ознаку – *\\\"Кількість звернень до сервісного центру\\\"* (`Customer service calls`). Також побудуємо відповідну таблицю і рисунок."
   ]
  },
  {
   "cell_type": "code",
   "execution_count": 35,
   "metadata": {
    "slideshow": {
     "slide_type": "-"
    }
   },
   "outputs": [
    {
     "data": {
      "text/html": [
       "<div>\n",
       "<style scoped>\n",
       "    .dataframe tbody tr th:only-of-type {\n",
       "        vertical-align: middle;\n",
       "    }\n",
       "\n",
       "    .dataframe tbody tr th {\n",
       "        vertical-align: top;\n",
       "    }\n",
       "\n",
       "    .dataframe thead th {\n",
       "        text-align: right;\n",
       "    }\n",
       "</style>\n",
       "<table border=\"1\" class=\"dataframe\">\n",
       "  <thead>\n",
       "    <tr style=\"text-align: right;\">\n",
       "      <th>Customer service calls</th>\n",
       "      <th>0</th>\n",
       "      <th>1</th>\n",
       "      <th>2</th>\n",
       "      <th>3</th>\n",
       "      <th>4</th>\n",
       "      <th>5</th>\n",
       "      <th>6</th>\n",
       "      <th>7</th>\n",
       "      <th>8</th>\n",
       "      <th>9</th>\n",
       "      <th>All</th>\n",
       "    </tr>\n",
       "    <tr>\n",
       "      <th>Churn</th>\n",
       "      <th></th>\n",
       "      <th></th>\n",
       "      <th></th>\n",
       "      <th></th>\n",
       "      <th></th>\n",
       "      <th></th>\n",
       "      <th></th>\n",
       "      <th></th>\n",
       "      <th></th>\n",
       "      <th></th>\n",
       "      <th></th>\n",
       "    </tr>\n",
       "  </thead>\n",
       "  <tbody>\n",
       "    <tr>\n",
       "      <th>0</th>\n",
       "      <td>605</td>\n",
       "      <td>1059</td>\n",
       "      <td>672</td>\n",
       "      <td>385</td>\n",
       "      <td>90</td>\n",
       "      <td>26</td>\n",
       "      <td>8</td>\n",
       "      <td>4</td>\n",
       "      <td>1</td>\n",
       "      <td>0</td>\n",
       "      <td>2850</td>\n",
       "    </tr>\n",
       "    <tr>\n",
       "      <th>1</th>\n",
       "      <td>92</td>\n",
       "      <td>122</td>\n",
       "      <td>87</td>\n",
       "      <td>44</td>\n",
       "      <td>76</td>\n",
       "      <td>40</td>\n",
       "      <td>14</td>\n",
       "      <td>5</td>\n",
       "      <td>1</td>\n",
       "      <td>2</td>\n",
       "      <td>483</td>\n",
       "    </tr>\n",
       "    <tr>\n",
       "      <th>All</th>\n",
       "      <td>697</td>\n",
       "      <td>1181</td>\n",
       "      <td>759</td>\n",
       "      <td>429</td>\n",
       "      <td>166</td>\n",
       "      <td>66</td>\n",
       "      <td>22</td>\n",
       "      <td>9</td>\n",
       "      <td>2</td>\n",
       "      <td>2</td>\n",
       "      <td>3333</td>\n",
       "    </tr>\n",
       "  </tbody>\n",
       "</table>\n",
       "</div>"
      ],
      "text/plain": [
       "Customer service calls    0     1    2    3    4   5   6  7  8  9   All\n",
       "Churn                                                                  \n",
       "0                       605  1059  672  385   90  26   8  4  1  0  2850\n",
       "1                        92   122   87   44   76  40  14  5  1  2   483\n",
       "All                     697  1181  759  429  166  66  22  9  2  2  3333"
      ]
     },
     "execution_count": 35,
     "metadata": {},
     "output_type": "execute_result"
    }
   ],
   "source": [
    "pd.crosstab(df['Churn'], df['Customer service calls'], margins=True)"
   ]
  },
  {
   "cell_type": "code",
   "execution_count": 36,
   "metadata": {
    "slideshow": {
     "slide_type": "-"
    }
   },
   "outputs": [
    {
     "data": {
      "image/png": "[encoded data removed]",
      "text/plain": [
       "<Figure size 432x288 with 1 Axes>"
      ]
     },
     "metadata": {
      "image/png": {
       "height": 266,
       "width": 398
      }
     },
     "output_type": "display_data"
    }
   ],
   "source": [
    "sns.countplot(x='Customer service calls', hue='Churn', data=df);"
   ]
  },
  {
   "cell_type": "markdown",
   "metadata": {
    "lang": "uk",
    "slideshow": {
     "slide_type": "-"
    }
   },
   "source": [
    "Можливо, по таблиці спряженості це не так добре видно, а ось рисунок свідчить про те, що частка відтоку сильно зростає починаючи з 4 дзвінків в сервісний центр."
   ]
  },
  {
   "cell_type": "markdown",
   "metadata": {
    "lang": "uk",
    "slideshow": {
     "slide_type": "subslide"
    }
   },
   "source": [
    "Додамо тепер в наш DataFrame бінарну ознаку —  результат порівняння `Customer service calls > 3`. І ще раз подивимося, як вона пов'язана з відтоком."
   ]
  },
  {
   "cell_type": "code",
   "execution_count": 37,
   "metadata": {
    "scrolled": true,
    "slideshow": {
     "slide_type": "-"
    }
   },
   "outputs": [
    {
     "data": {
      "text/html": [
       "<div>\n",
       "<style scoped>\n",
       "    .dataframe tbody tr th:only-of-type {\n",
       "        vertical-align: middle;\n",
       "    }\n",
       "\n",
       "    .dataframe tbody tr th {\n",
       "        vertical-align: top;\n",
       "    }\n",
       "\n",
       "    .dataframe thead th {\n",
       "        text-align: right;\n",
       "    }\n",
       "</style>\n",
       "<table border=\"1\" class=\"dataframe\">\n",
       "  <thead>\n",
       "    <tr style=\"text-align: right;\">\n",
       "      <th>Churn</th>\n",
       "      <th>0</th>\n",
       "      <th>1</th>\n",
       "      <th>All</th>\n",
       "    </tr>\n",
       "    <tr>\n",
       "      <th>Many_service_calls</th>\n",
       "      <th></th>\n",
       "      <th></th>\n",
       "      <th></th>\n",
       "    </tr>\n",
       "  </thead>\n",
       "  <tbody>\n",
       "    <tr>\n",
       "      <th>0</th>\n",
       "      <td>2721</td>\n",
       "      <td>345</td>\n",
       "      <td>3066</td>\n",
       "    </tr>\n",
       "    <tr>\n",
       "      <th>1</th>\n",
       "      <td>129</td>\n",
       "      <td>138</td>\n",
       "      <td>267</td>\n",
       "    </tr>\n",
       "    <tr>\n",
       "      <th>All</th>\n",
       "      <td>2850</td>\n",
       "      <td>483</td>\n",
       "      <td>3333</td>\n",
       "    </tr>\n",
       "  </tbody>\n",
       "</table>\n",
       "</div>"
      ],
      "text/plain": [
       "Churn                  0    1   All\n",
       "Many_service_calls                 \n",
       "0                   2721  345  3066\n",
       "1                    129  138   267\n",
       "All                 2850  483  3333"
      ]
     },
     "execution_count": 37,
     "metadata": {},
     "output_type": "execute_result"
    }
   ],
   "source": [
    "df['Many_service_calls'] = (df['Customer service calls'] > 3).astype('int')\n",
    "\n",
    "pd.crosstab(df['Many_service_calls'], df['Churn'], margins=True)"
   ]
  },
  {
   "cell_type": "code",
   "execution_count": 38,
   "metadata": {
    "slideshow": {
     "slide_type": "-"
    }
   },
   "outputs": [
    {
     "data": {
      "image/png": "[encoded data removed]",
      "text/plain": [
       "<Figure size 432x288 with 1 Axes>"
      ]
     },
     "metadata": {
      "image/png": {
       "height": 266,
       "width": 398
      }
     },
     "output_type": "display_data"
    }
   ],
   "source": [
    "sns.countplot(x='Many_service_calls', hue='Churn', data=df);"
   ]
  },
  {
   "cell_type": "markdown",
   "metadata": {
    "lang": "uk",
    "slideshow": {
     "slide_type": "subslide"
    }
   },
   "source": [
    "Об'єднаємо розглянуті вище умови і побудуємо таблицю спряженості для цього об'єднання і відтоку."
   ]
  },
  {
   "cell_type": "code",
   "execution_count": 39,
   "metadata": {
    "slideshow": {
     "slide_type": "-"
    }
   },
   "outputs": [
    {
     "data": {
      "text/html": [
       "<div>\n",
       "<style scoped>\n",
       "    .dataframe tbody tr th:only-of-type {\n",
       "        vertical-align: middle;\n",
       "    }\n",
       "\n",
       "    .dataframe tbody tr th {\n",
       "        vertical-align: top;\n",
       "    }\n",
       "\n",
       "    .dataframe thead th {\n",
       "        text-align: right;\n",
       "    }\n",
       "</style>\n",
       "<table border=\"1\" class=\"dataframe\">\n",
       "  <thead>\n",
       "    <tr style=\"text-align: right;\">\n",
       "      <th>Churn</th>\n",
       "      <th>0</th>\n",
       "      <th>1</th>\n",
       "    </tr>\n",
       "    <tr>\n",
       "      <th>row_0</th>\n",
       "      <th></th>\n",
       "      <th></th>\n",
       "    </tr>\n",
       "  </thead>\n",
       "  <tbody>\n",
       "    <tr>\n",
       "      <th>False</th>\n",
       "      <td>2841</td>\n",
       "      <td>464</td>\n",
       "    </tr>\n",
       "    <tr>\n",
       "      <th>True</th>\n",
       "      <td>9</td>\n",
       "      <td>19</td>\n",
       "    </tr>\n",
       "  </tbody>\n",
       "</table>\n",
       "</div>"
      ],
      "text/plain": [
       "Churn     0    1\n",
       "row_0           \n",
       "False  2841  464\n",
       "True      9   19"
      ]
     },
     "execution_count": 39,
     "metadata": {},
     "output_type": "execute_result"
    }
   ],
   "source": [
    "pd.crosstab(df['Many_service_calls'] & df['International plan'] , \n",
    "            df['Churn'])"
   ]
  },
  {
   "cell_type": "markdown",
   "metadata": {
    "lang": "uk",
    "slideshow": {
     "slide_type": "fragment"
    }
   },
   "source": [
    "Отже, прогнозуючи відтік клієнта в разі, коли кількість дзвінків в сервісний центр більша за 3 і підключений роумінг (і прогнозуючи лояльність – в іншому випадку), можна очікувати близько 85.8% правильних влучень (помиляємося всього 464 + 9 разів). Ці 85.8%, які ми отримали за допомогою дуже простих міркувань – це непогана відправна точка (*baseline*) для подальших моделей машинного навчання, які ми будемо будувати."
   ]
  },
  {
   "cell_type": "markdown",
   "metadata": {
    "lang": "uk",
    "slideshow": {
     "slide_type": "subslide"
    }
   },
   "source": [
    "В цілому до появи машинного навчання процес аналізу даних виглядав приблизно так. Підсумуємо:\n",
    "    \n",
    "- Частка лояльних клієнтів у вибірці – 85.5%. Найбільш наївна модель, відповідь якої \"Клієнт завжди лояльний\" на подібних даних буде вгадувати приблизно у 85,5% випадків. Тобто частки правильних відповідей (*accuracy*) наступних моделей повинні бути як мінімум не менші, а краще, значно вищі за це значення.\n",
    "- За допомогою простого прогнозу, який умовно можна виразити такою формулою: \"International plan = True & Customer Service calls > 3 => Churn = 1, else Churn = 0\", можна очікувати частку вгадувань 85.8%, що ще трохи вище 85.5%.\n",
    "- Ці два результати ми отримали без всякого машинного навчання, і вони служать відправною точною для наших подальших моделей. Якщо виявиться, що ми величезними зусиллями збільшуємо частку правильних відповідей всього, скажімо, на 0.5%, то можливо, ми щось робимо не так, і досить обмежитися простою моделлю з двох умов.\n",
    "- Перед навчанням складних моделей рекомендується трохи покрутити дані і перевірити прості припущення. Більше того, в бізнес-додатках машинного навчання найчастіше починають саме з простих рішень, а потім експериментують з їх ускладненням."
   ]
  },
  {
   "cell_type": "markdown",
   "metadata": {},
   "source": [
    "## 3. Корисні ресурси\n",
    "\n",
    "* Офіційна [документація](http://pandas.pydata.org/pandas-docs/stable/index.html) Pandas.\n",
    "* [10 minutes to pandas](https://pandas.pydata.org/pandas-docs/stable/user_guide/10min.html).\n",
    "* [Pandas cheatsheet PDF](https://github.com/pandas-dev/pandas/blob/master/doc/cheatsheet/Pandas_Cheat_Sheet.pdf).\n",
    "* [scipy-lectures.org](http://www.scipy-lectures.org/index.html) — Навчальні посібники по pandas, numpy, matplotlib і scikit-learn."
   ]
  }
 ],
 "metadata": {
  "anaconda-cloud": {},
  "kernelspec": {
   "display_name": "Python 3",
   "language": "python",
   "name": "python3"
  },
  "language_info": {
   "codemirror_mode": {
    "name": "ipython",
    "version": 3
   },
   "file_extension": ".py",
   "mimetype": "text/x-python",
   "name": "python",
   "nbconvert_exporter": "python",
   "pygments_lexer": "ipython3",
   "version": "3.8.5"
  },
  "nbTranslate": {
   "displayLangs": [
    "*"
   ],
   "hotkey": "alt-t",
   "langInMainMenu": true,
   "sourceLang": "en",
   "targetLang": "fr",
   "useGoogleTranslate": true
  }
 },
 "nbformat": 4,
 "nbformat_minor": 1
}
